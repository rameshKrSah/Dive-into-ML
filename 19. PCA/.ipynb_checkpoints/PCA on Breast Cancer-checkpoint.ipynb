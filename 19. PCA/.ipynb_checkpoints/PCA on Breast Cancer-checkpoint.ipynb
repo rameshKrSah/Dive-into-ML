{
 "cells": [
  {
   "cell_type": "code",
   "execution_count": 1,
   "metadata": {},
   "outputs": [],
   "source": [
    "import numpy as np\n",
    "import time\n",
    "\n",
    "from sklearn import decomposition, datasets, linear_model\n",
    "from sklearn.preprocessing import StandardScaler\n",
    "from sklearn.model_selection import train_test_split"
   ]
  },
  {
   "cell_type": "code",
   "execution_count": 2,
   "metadata": {},
   "outputs": [],
   "source": [
    "breast_cancer = datasets.load_breast_cancer()\n",
    "x = breast_cancer.data\n",
    "y = breast_cancer.target"
   ]
  },
  {
   "cell_type": "code",
   "execution_count": 3,
   "metadata": {},
   "outputs": [
    {
     "data": {
      "text/plain": [
       "(569, 30)"
      ]
     },
     "execution_count": 3,
     "metadata": {},
     "output_type": "execute_result"
    }
   ],
   "source": [
    "x.shape"
   ]
  },
  {
   "cell_type": "code",
   "execution_count": 4,
   "metadata": {
    "collapsed": true
   },
   "outputs": [],
   "source": [
    "## Feature Scaling on x\n",
    "sc = StandardScaler()\n",
    "x_std = sc.fit_transform(x)"
   ]
  },
  {
   "cell_type": "code",
   "execution_count": 5,
   "metadata": {
    "collapsed": true
   },
   "outputs": [],
   "source": [
    "x_train, x_test, y_train, y_test = train_test_split(x_std, y, random_state = 0)"
   ]
  },
  {
   "cell_type": "code",
   "execution_count": 6,
   "metadata": {},
   "outputs": [],
   "source": [
    "pca = decomposition.PCA(n_components=15)\n",
    "\n",
    "x_train_pca = pca.fit_transform(x_train)\n",
    "x_test_pca = pca.transform(x_test)\n"
   ]
  },
  {
   "cell_type": "code",
   "execution_count": 9,
   "metadata": {},
   "outputs": [
    {
     "name": "stdout",
     "output_type": "stream",
     "text": [
      "0.005357027053833008\n",
      "0.965034965035\n"
     ]
    }
   ],
   "source": [
    "# Testing score and time on original data\n",
    "clf =  linear_model.LogisticRegression()\n",
    "\n",
    "start = time.time()\n",
    "\n",
    "clf.fit(x_train, y_train)\n",
    "\n",
    "ending = time.time()\n",
    "time_taken = ending - start\n",
    "\n",
    "print(time_taken)\n",
    "print(clf.score(x_test, y_test))"
   ]
  },
  {
   "cell_type": "code",
   "execution_count": 10,
   "metadata": {},
   "outputs": [
    {
     "name": "stdout",
     "output_type": "stream",
     "text": [
      "0.004470109939575195\n",
      "0.958041958042\n"
     ]
    }
   ],
   "source": [
    "# Testing score and time on PCA applied data\n",
    "\n",
    "clf =  linear_model.LogisticRegression()\n",
    "\n",
    "start = time.time()\n",
    "\n",
    "clf.fit(x_train_pca, y_train)\n",
    "\n",
    "ending = time.time()\n",
    "time_taken = ending - start\n",
    "\n",
    "print(time_taken)\n",
    "print(clf.score(x_test_pca, y_test))"
   ]
  },
  {
   "cell_type": "markdown",
   "metadata": {},
   "source": [
    "PCA will perform better ie. take less time, with decent amount of accuracy in substantionally larger datasets.\n",
    "In smaller datasets difference is very less."
   ]
  }
 ],
 "metadata": {
  "kernelspec": {
   "display_name": "Python 3",
   "language": "python",
   "name": "python3"
  },
  "language_info": {
   "codemirror_mode": {
    "name": "ipython",
    "version": 3
   },
   "file_extension": ".py",
   "mimetype": "text/x-python",
   "name": "python",
   "nbconvert_exporter": "python",
   "pygments_lexer": "ipython3",
   "version": "3.6.3"
  }
 },
 "nbformat": 4,
 "nbformat_minor": 2
}
