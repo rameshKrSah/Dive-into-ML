{
 "cells": [
  {
   "cell_type": "code",
   "execution_count": 11,
   "metadata": {},
   "outputs": [
    {
     "name": "stdout",
     "output_type": "stream",
     "text": [
      "[[1, 2, 3], [4, 5, 6]]\n",
      "[1, 2, 3]\n",
      "2\n"
     ]
    }
   ],
   "source": [
    "l = [[1,2,3],[4,5,6]]\n",
    "print(l)\n",
    "print(l[0])\n",
    "print(l[0][1])"
   ]
  },
  {
   "cell_type": "code",
   "execution_count": 19,
   "metadata": {},
   "outputs": [
    {
     "name": "stdout",
     "output_type": "stream",
     "text": [
      "[0, 1, 2, 3, 4, 5, 6, 7, 8, 9]\n",
      "[[0, 0], [0, 0], [0, 0], [0, 0], [0, 0]]\n",
      "[[0, 1, 2, 3, 4], [5, 6, 7, 8, 9], [10, 11, 12, 13, 14], [15, 16, 17, 18, 19], [20, 21, 22, 23, 24], [25, 26, 27, 28, 29], [30, 31, 32, 33, 34], [35, 36, 37, 38, 39], [40, 41, 42, 43, 44], [45, 46, 47, 48, 49]]\n"
     ]
    }
   ],
   "source": [
    "#Creating 2d arrays\n",
    "\n",
    "l1d = [i for i in range(10)]\n",
    "print(l1d)\n",
    "\n",
    "l2d = [[0,0,] for i in range(5)]\n",
    "print(l2d)\n",
    "\n",
    "l2d1 = [[5*i + j for j in range(5)] for i in range(10)]\n",
    "print(l2d1)"
   ]
  },
  {
   "cell_type": "code",
   "execution_count": 41,
   "metadata": {},
   "outputs": [
    {
     "name": "stdout",
     "output_type": "stream",
     "text": [
      "2 3 \n",
      "1 2 3 4 5 6 \n",
      "[[1, 2, 3], [4, 5, 6]]\n"
     ]
    },
    {
     "data": {
      "text/plain": [
       "[[1, 2, 3], [4, 5, 6]]"
      ]
     },
     "execution_count": 41,
     "metadata": {},
     "output_type": "execute_result"
    }
   ],
   "source": [
    "#how to take 2d array input \n",
    "r = input().strip().split(\" \")\n",
    "n = int(r[0])\n",
    "m = int(r[1])\n",
    "\n",
    "l = [int(i) for i in input().strip().split(\" \")]\n",
    "\n",
    "out = []\n",
    "for i in range(n):\n",
    "    out.append([])\n",
    "    for j in range(m):\n",
    "        out[i].append(l[i * m + j])\n",
    "        \n",
    "\n",
    "out2 = [[l[i*m+j] for j in range(m)] for i in range(n)]        \n",
    "print(out)        \n",
    "out2\n"
   ]
  },
  {
   "cell_type": "code",
   "execution_count": 46,
   "metadata": {},
   "outputs": [
    {
     "name": "stdout",
     "output_type": "stream",
     "text": [
      "1 4 [4, 5, 6] [1] [1, 2, 3] [1] 3 6 "
     ]
    }
   ],
   "source": [
    "#Print in wave pattern\n",
    "\n",
    "n = len(out2)\n",
    "m = len(out2[0])\n",
    "\n",
    "for j in range(m):\n",
    "    if j % 2 == 0:\n",
    "        for i in range(n):\n",
    "            print(out2[i][j], end = \" \")\n",
    "    else:\n",
    "        for i in range(n-1, -1, -1):\n",
    "            print(out2[i],[j], end = \" \")"
   ]
  },
  {
   "cell_type": "code",
   "execution_count": 59,
   "metadata": {},
   "outputs": [
    {
     "name": "stdout",
     "output_type": "stream",
     "text": [
      "3 3 \n",
      "3 6 9 1 4 7 2 8 9\n",
      "column 2 25\n"
     ]
    }
   ],
   "source": [
    "#Max sum in row or column \n",
    "\n",
    "data = input().strip().split(\" \")\n",
    "n = int(data[0])\n",
    "m = int(data[1])\n",
    "\n",
    "values = [int(i) for i in input().strip().split(\" \")]\n",
    "\n",
    "matrix = [[values[i * m + j] for j in range(m)] for i in range(n)]\n",
    "\n",
    "maxRowSum = 0\n",
    "maxRow = -1\n",
    "\n",
    "#row sum check\n",
    "for i in range(n):\n",
    "    sum = 0\n",
    "    for j in range(m):\n",
    "        sum += matrix[i][j]\n",
    "    if sum > maxRowSum:\n",
    "        maxRowSum = sum\n",
    "        maxRow = i\n",
    "        \n",
    "maxColSum = 0\n",
    "maxCol = -1\n",
    "       \n",
    "#column sum check \n",
    "for j in range(m):\n",
    "    sum = 0 \n",
    "    for i in range(n):\n",
    "        sum += matrix[i][j]\n",
    "    if sum > maxColSum:\n",
    "        maxColSum = sum\n",
    "        maxCol = j\n",
    "        \n",
    "        \n",
    "if maxRowSum > maxColSum:\n",
    "    print(\"row\", end = \" \")\n",
    "    print(maxRow,end = \" \")\n",
    "    print(maxRowSum)\n",
    "else:\n",
    "    print(\"column\", end = \" \")\n",
    "    print(maxCol,end = \" \")\n",
    "    print(maxColSum)\n",
    "        "
   ]
  },
  {
   "cell_type": "code",
   "execution_count": 8,
   "metadata": {},
   "outputs": [
    {
     "name": "stdout",
     "output_type": "stream",
     "text": [
      "4 4 1 2 3 4 5 6 7 8 9 10 11 12 13 14 15 16\n",
      "1 2 3 4 8 12 16 15 14 13 9 5 6 7 11 10 "
     ]
    }
   ],
   "source": [
    "## Print Spiral \n",
    "\n",
    "values = [int(i) for i in input().strip().split(\" \")]\n",
    "n = values[0]\n",
    "m = values[1]\n",
    "matrix = [[values[i * m + j + 2] for j in range(m)] for i in range(n)]\n",
    "\n",
    "p = 0 #starting boundery for row\n",
    "q = 0 #starting boundary for col\n",
    "while(p < n  and q < m):\n",
    "    \n",
    "    i = q\n",
    "    while i< m:\n",
    "        print(matrix[p][i], end = \" \")\n",
    "        i += 1\n",
    "    p += 1\n",
    "    \n",
    "    \n",
    "    i = p\n",
    "    while i< n:\n",
    "        print(matrix[i][m-1], end = \" \")\n",
    "        i += 1\n",
    "    m -= 1\n",
    "    \n",
    "    i = m-1\n",
    "    while i >= q:\n",
    "        print(matrix[n-1][i], end = \" \")\n",
    "        i -= 1\n",
    "    n -= 1\n",
    "    \n",
    "    i = n-1\n",
    "    while i >= p:\n",
    "        print(matrix[i][q], end = \" \")\n",
    "        i -= 1 \n",
    "    q += 1\n",
    "    \n",
    "\n",
    "\n",
    "\n",
    "# 1 2 3 4\n",
    "# 5 6 7 8\n",
    "# 9 10 11 12\n",
    "# 13 14 15 16"
   ]
  },
  {
   "cell_type": "code",
   "execution_count": null,
   "metadata": {
    "collapsed": true
   },
   "outputs": [],
   "source": []
  },
  {
   "cell_type": "code",
   "execution_count": 5,
   "metadata": {},
   "outputs": [
    {
     "data": {
      "text/plain": [
       "1"
      ]
     },
     "execution_count": 5,
     "metadata": {},
     "output_type": "execute_result"
    }
   ],
   "source": [
    "i = 1\n",
    "i =+ 1\n",
    "i"
   ]
  }
 ],
 "metadata": {
  "kernelspec": {
   "display_name": "Python 3",
   "language": "python",
   "name": "python3"
  },
  "language_info": {
   "codemirror_mode": {
    "name": "ipython",
    "version": 3
   },
   "file_extension": ".py",
   "mimetype": "text/x-python",
   "name": "python",
   "nbconvert_exporter": "python",
   "pygments_lexer": "ipython3",
   "version": "3.6.3"
  }
 },
 "nbformat": 4,
 "nbformat_minor": 2
}
