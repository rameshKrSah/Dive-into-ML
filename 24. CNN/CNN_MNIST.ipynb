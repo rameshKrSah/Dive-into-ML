{
 "cells": [
  {
   "cell_type": "code",
   "execution_count": 1,
   "metadata": {
    "collapsed": true
   },
   "outputs": [],
   "source": [
    "import tensorflow as tf"
   ]
  },
  {
   "cell_type": "code",
   "execution_count": 3,
   "metadata": {},
   "outputs": [
    {
     "name": "stdout",
     "output_type": "stream",
     "text": [
      "Extracting MNIST_data/train-images-idx3-ubyte.gz\n",
      "Extracting MNIST_data/train-labels-idx1-ubyte.gz\n",
      "Extracting MNIST_data/t10k-images-idx3-ubyte.gz\n",
      "Extracting MNIST_data/t10k-labels-idx1-ubyte.gz\n"
     ]
    }
   ],
   "source": [
    "#Importing TensorFlow dataset\n",
    "from tensorflow.examples.tutorials.mnist import input_data\n",
    "mnist = input_data.read_data_sets(\"MNIST_data/\", one_hot = True)"
   ]
  },
  {
   "cell_type": "markdown",
   "metadata": {},
   "source": [
    "## Convulational  Neural Network\n",
    "![title](mnist_network.png)"
   ]
  },
  {
   "cell_type": "code",
   "execution_count": 5,
   "metadata": {
    "collapsed": true
   },
   "outputs": [],
   "source": [
    "# Defining constants\n",
    "input_width = 28\n",
    "input_height = 28\n",
    "input_channels = 1\n",
    "input_pixels = 784\n",
    "\n",
    "n_conv1 = 32\n",
    "n_conv2 = 64\n",
    "\n",
    "stride_conv1 = 1\n",
    "stride_conv2 = 1\n",
    "\n",
    "k_conv1 = 5\n",
    "k_conv2 = 5\n",
    "\n",
    "k_max_pool1 = 2\n",
    "k_max_pool2 = 2\n",
    "\n",
    "n_hidden = 1024\n",
    "n_output = 10\n",
    "\n",
    "input_size_to_hidden = (input_width//(k_max_pool1 * k_max_pool2))* (input_height//(k_max_pool1 * k_max_pool2)) * n_conv2"
   ]
  },
  {
   "cell_type": "code",
   "execution_count": 7,
   "metadata": {},
   "outputs": [],
   "source": [
    "# Initialising weights and biases dictionary with random values\n",
    "weights = {\n",
    "    \"wc1\" : tf.Variable(tf.random_normal([k_conv1, k_conv1, input_channels, n_conv1])),\n",
    "    \"wc2\" : tf.Variable(tf.random_normal([k_conv2, k_conv2, n_conv1, n_conv2])),\n",
    "    \"wh1\" : tf.Variable(tf.random_normal([input_size_to_hidden, n_hidden])),\n",
    "    \"wo\"  : tf.Variable(tf.random_normal([n_hidden, n_output])) \n",
    "}\n",
    "biases = {\n",
    "    \"bc1\" : tf.Variable(tf.random_normal([n_conv1])),\n",
    "    \"bc2\" : tf.Variable(tf.random_normal([n_conv2])),\n",
    "    \"bh1\" : tf.Variable(tf.random_normal([n_hidden])),\n",
    "    \"bo\"  : tf.Variable(tf.random_normal([n_output]))\n",
    "}"
   ]
  },
  {
   "cell_type": "markdown",
   "metadata": {},
   "source": [
    "## Forward propagation"
   ]
  },
  {
   "cell_type": "code",
   "execution_count": 9,
   "metadata": {
    "collapsed": true
   },
   "outputs": [],
   "source": [
    "def conv(x, weights, bias, strides = 1):\n",
    "    #Apply the filter on image\n",
    "    out = tf.nn.conv2d(x, weights, padding=\"SAME\", strides= [1, strides, strides, 1])\n",
    "    \n",
    "    #Adding biases\n",
    "    out = tf.nn.bias_add(out, bias)\n",
    "    \n",
    "    #Applying relu activation function\n",
    "    out = tf.nn.relu(out)\n",
    "    \n",
    "    return out\n",
    "\n",
    "def maxPooling(x, k=2):\n",
    "    return tf.nn.max_pool(x, padding =\"SAME\", ksize = [1, k, k, 1], strides = [1, k, k, 1])"
   ]
  },
  {
   "cell_type": "code",
   "execution_count": 44,
   "metadata": {
    "collapsed": true
   },
   "outputs": [],
   "source": [
    "def cnn(x, weights, biases, keep_prob):\n",
    "    # Reshape the image\n",
    "    x = tf.reshape(x, shape = [-1 , input_width, input_height, input_channels])\n",
    "    \n",
    "    # Passing it with the CNN 1\n",
    "    conv1 = conv(x, weights['wc1'], biases['bc1'], stride_conv1)\n",
    "    conv1_pool = maxPooling(conv1, k_max_pool1)\n",
    "    \n",
    "    # Passing it with the CNN 2\n",
    "    conv2 = conv(conv1_pool, weights['wc2'], biases['bc2'], stride_conv2)\n",
    "    conv2_pool = maxPooling(conv2, k_max_pool2)\n",
    "    \n",
    "    #Reshape the image\n",
    "    hidden_input = tf.reshape(conv2_pool, shape = [-1, input_size_to_hidden])\n",
    "    \n",
    "    #Passing it with hidden dense layer\n",
    "    hidden_output_before_activation = tf.add(tf.matmul(hidden_input, weights['wh1']), biases['bh1']) \n",
    "    hidden_output_before_dropout = tf.nn.relu(hidden_output_before_activation)\n",
    "    \n",
    "    # Passing it with Dropout Layer\n",
    "    hidden_output = tf.nn.dropout(hidden_output_before_dropout, keep_prob)\n",
    "    \n",
    "    #Passing it with output layer\n",
    "    output = tf.add(tf.matmul(hidden_output, weights['wo']), biases['bo'])\n",
    "    \n",
    "    return output "
   ]
  },
  {
   "cell_type": "markdown",
   "metadata": {},
   "source": [
    "Note:\n",
    "     we need to make these changes in our code if we change the padding in conv & maxpool to “valid:\n",
    "        1. Weights of the hidden layer\n",
    "        2. Reshaping code before feeding into Hidden layer "
   ]
  },
  {
   "cell_type": "code",
   "execution_count": 32,
   "metadata": {},
   "outputs": [],
   "source": [
    "# Making Predictions by forward Propagation\n",
    "x = tf.placeholder(\"float\", [None, input_pixels])\n",
    "y = tf.placeholder(tf.int32,[None, n_output] )\n",
    "keep_prob = tf.placeholder(\"float\")\n",
    "\n",
    "pred = cnn(x, weights, biases, keep_prob)"
   ]
  },
  {
   "cell_type": "code",
   "execution_count": 34,
   "metadata": {},
   "outputs": [],
   "source": [
    "#Cost Function\n",
    "cost = tf.reduce_mean(tf.nn.softmax_cross_entropy_with_logits_v2(logits=pred, labels=y))"
   ]
  },
  {
   "cell_type": "markdown",
   "metadata": {},
   "source": [
    "## Running the optimizer"
   ]
  },
  {
   "cell_type": "code",
   "execution_count": 36,
   "metadata": {},
   "outputs": [],
   "source": [
    "# Optimisation \n",
    "optimizer = tf.train.AdamOptimizer(learning_rate=0.01)\n",
    "optimize = optimizer.minimize(cost)"
   ]
  },
  {
   "cell_type": "code",
   "execution_count": 39,
   "metadata": {},
   "outputs": [],
   "source": [
    "# Initialisation of variables\n",
    "sess = tf.Session()\n",
    "sess.run(tf.global_variables_initializer())"
   ]
  },
  {
   "cell_type": "code",
   "execution_count": 41,
   "metadata": {},
   "outputs": [
    {
     "name": "stdout",
     "output_type": "stream",
     "text": [
      "1039808.72547\n",
      "23518.127467\n",
      "12555.2052178\n",
      "10052.6160379\n",
      "9525.65215454\n",
      "9233.5383713\n",
      "8559.99329458\n",
      "9037.01997285\n",
      "8206.49628346\n",
      "6805.76723682\n",
      "6436.50661067\n",
      "5777.95567219\n",
      "6105.12203871\n",
      "4538.2222268\n",
      "4931.04325581\n",
      "3958.70492561\n",
      "3717.022557\n",
      "3254.98264499\n",
      "3315.76380058\n",
      "2425.68892406\n",
      "2967.38210581\n",
      "3432.25903894\n",
      "2000.77725361\n",
      "2517.13446648\n",
      "2725.69156864\n"
     ]
    }
   ],
   "source": [
    "batch_size = 100\n",
    "# Running multiple iterations of Optimizer\n",
    "for iter in range(25):\n",
    "    # Batch Gradient Descent\n",
    "    num_batches = int(mnist.train.num_examples / batch_size)\n",
    "    total_cost = 0  #Total cost in a batch\n",
    "    for j in range(num_batches):\n",
    "        batch_x, batch_y = mnist.train.next_batch(batch_size)\n",
    "        c, _ = sess.run([cost, optimize], feed_dict = {x : batch_x, y: batch_y, keep_prob:0.8})\n",
    "        total_cost += c\n",
    "    print(total_cost)"
   ]
  },
  {
   "cell_type": "markdown",
   "metadata": {},
   "source": [
    "## Finding Predictions and Accuracy"
   ]
  },
  {
   "cell_type": "code",
   "execution_count": 46,
   "metadata": {},
   "outputs": [
    {
     "data": {
      "text/plain": [
       "9849"
      ]
     },
     "execution_count": 46,
     "metadata": {},
     "output_type": "execute_result"
    }
   ],
   "source": [
    "predictions = tf.argmax(pred, 1)  \n",
    "correct_labels = tf.argmax(y, 1)\n",
    "correct_predictions = tf.equal(predictions, correct_labels)\n",
    "\n",
    "predictions, correct_predictions =  sess.run([predictions, correct_predictions], \n",
    "                                                   feed_dict = {x: mnist.test.images, y: mnist.test.labels, keep_prob:1.0})\n",
    "correct_predictions.sum()"
   ]
  },
  {
   "cell_type": "markdown",
   "metadata": {},
   "source": [
    "**Note:** \n",
    "1. Adding a dropout layer might help us in Avoiding overfitting. \n",
    "2. Keep probability of dropout layer during testing should be 1.\n",
    "3. Output size of a dropout layer with 0.8 as keep probability and n as the input size will be same as n with approximately 0.2*n entries converted to 0 "
   ]
  }
 ],
 "metadata": {
  "kernelspec": {
   "display_name": "Python 3",
   "language": "python",
   "name": "python3"
  },
  "language_info": {
   "codemirror_mode": {
    "name": "ipython",
    "version": 3
   },
   "file_extension": ".py",
   "mimetype": "text/x-python",
   "name": "python",
   "nbconvert_exporter": "python",
   "pygments_lexer": "ipython3",
   "version": "3.6.3"
  }
 },
 "nbformat": 4,
 "nbformat_minor": 2
}
