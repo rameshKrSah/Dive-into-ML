{
 "cells": [
  {
   "cell_type": "markdown",
   "metadata": {},
   "source": [
    "### Need for RNN: \n",
    "* Variable Size Input\n",
    "* Variable Size Output\n",
    "* Has a sequence nature to it\n",
    "\n",
    "### Sequential nature of data:\n",
    "    * Sequence of entities defines the data \n",
    "    * Every sequence has a different meaning \n",
    "    * Size of input sequence can affect the output "
   ]
  },
  {
   "cell_type": "markdown",
   "metadata": {},
   "source": [
    "### RNN are used for:\n",
    "1. Handwriting recognition \n",
    "2. Speech recognition \n",
    "3. Machine translation \n",
    "4. Image captioning \n",
    "5. word prediction "
   ]
  },
  {
   "cell_type": "markdown",
   "metadata": {},
   "source": [
    "### RNN diagram at different time frame\n",
    "![title](rnn_expanded.png)"
   ]
  },
  {
   "cell_type": "markdown",
   "metadata": {},
   "source": [
    "### RNN recurrent diagram\n",
    "![](rnn_one_unit.png)"
   ]
  },
  {
   "cell_type": "markdown",
   "metadata": {},
   "source": [
    "* Same weight matrix will be used multiple times for input data coming at different time frame.\n",
    "\n",
    "* The generic nth step in RNN i.e.\n",
    " $$ a_n=A( w_xa * x_n + w_aa * a_{n-1} + b_a) $$\n",
    " $$ Y_n=A’( w_ay * a_n + b_y) $$ "
   ]
  }
 ],
 "metadata": {
  "kernelspec": {
   "display_name": "Python 3",
   "language": "python",
   "name": "python3"
  },
  "language_info": {
   "codemirror_mode": {
    "name": "ipython",
    "version": 3
   },
   "file_extension": ".py",
   "mimetype": "text/x-python",
   "name": "python",
   "nbconvert_exporter": "python",
   "pygments_lexer": "ipython3",
   "version": "3.6.3"
  }
 },
 "nbformat": 4,
 "nbformat_minor": 2
}
