{
 "cells": [
  {
   "cell_type": "code",
   "execution_count": 1,
   "metadata": {
    "collapsed": true
   },
   "outputs": [],
   "source": [
    "import pandas as pd\n",
    "import numpy as np\n",
    "from sklearn import preprocessing"
   ]
  },
  {
   "cell_type": "code",
   "execution_count": 2,
   "metadata": {
    "collapsed": true
   },
   "outputs": [],
   "source": [
    "def step_gradient(x, y, learning_rate, m):\n",
    "    new_m = np.zeros(x.shape[1])\n",
    "    \n",
    "    N = x.shape[0]\n",
    "    col_count = x.shape[1]\n",
    "    \n",
    "    for i in range(N):\n",
    "        for j in range(col_count):\n",
    "            X = x[i][j]\n",
    "            Y = y[i]\n",
    "            \n",
    "            new_m[j] += (-2/N) * (Y - (m * x[i]).sum() ) * X\n",
    "        \n",
    "        m = m - (learning_rate)*new_m\n",
    "    \n",
    "    return m"
   ]
  },
  {
   "cell_type": "code",
   "execution_count": 3,
   "metadata": {
    "collapsed": true
   },
   "outputs": [],
   "source": [
    "def cost(x, y, m):\n",
    "    total_cost = 0\n",
    "    N = x.shape[0]\n",
    "    \n",
    "    for i in range(N):\n",
    "        total_cost += (1/N) * ((y[i]- (m*x[i]).sum())**2)\n",
    "    \n",
    "    return total_cost"
   ]
  },
  {
   "cell_type": "code",
   "execution_count": 4,
   "metadata": {
    "collapsed": true
   },
   "outputs": [],
   "source": [
    "def gd(x,y, learning_rate, num_iterations):\n",
    "    m = np.zeros(x.shape[1])\n",
    "    for i in range(num_iterations):\n",
    "        m = step_gradient(x,y, learning_rate, m)\n",
    "        print(i, \"Cost: \", cost(x,y, m))\n",
    "        \n",
    "    return m"
   ]
  },
  {
   "cell_type": "code",
   "execution_count": 5,
   "metadata": {
    "collapsed": true
   },
   "outputs": [],
   "source": [
    "def predict(x, m):\n",
    "    y = np.zeros(x.shape[0])\n",
    "    \n",
    "    for i in range(x.shape[0]):\n",
    "        y[i] = (m*x[i]).sum()\n",
    "        \n",
    "    return y"
   ]
  },
  {
   "cell_type": "code",
   "execution_count": 6,
   "metadata": {
    "collapsed": true
   },
   "outputs": [],
   "source": [
    "def run(x,y, learning_rate, num_iterations):\n",
    "    slope = gd(x, y, learning_rate, num_iterations)\n",
    "    return slope"
   ]
  },
  {
   "cell_type": "code",
   "execution_count": 30,
   "metadata": {
    "collapsed": true
   },
   "outputs": [],
   "source": [
    "def read_data():\n",
    "    df = pd.read_csv(\"boston_x_y_train.csv\")\n",
    "\n",
    "    train_data = df.iloc[:,0:13]\n",
    "\n",
    "    test_data = pd.read_csv(\"boston_x_test.csv\")\n",
    "\n",
    "    \n",
    "    a = np.array(test_data.columns)\n",
    "    a = pd.DataFrame(np.reshape(a,(1,13)))    \n",
    "    a.columns = train_data.columns\n",
    "    test_data.columns = train_data.columns\n",
    "    test_data = a.append(test_data,ignore_index = True)    \n",
    "    \n",
    "    result_data = pd.concat([train_data, test_data])\n",
    "\n",
    "    scaled_data = pd.DataFrame(preprocessing.scale(result_data))\n",
    "    \n",
    "    train_x = scaled_data.iloc[0:379,:]\n",
    "    test_x = scaled_data.iloc[379:506,:]\n",
    "\n",
    "    train_x[\"13\"] = 1\n",
    "    test_x[\"13\"] = 1\n",
    "\n",
    "    train_y = df.iloc[:,13]\n",
    " \n",
    "    \n",
    "    train_x = train_x.values\n",
    "    train_y = train_y.values\n",
    "    test_x = test_x.values\n",
    "\n",
    "    \n",
    "    return train_x, train_y, test_x"
   ]
  },
  {
   "cell_type": "code",
   "execution_count": 34,
   "metadata": {},
   "outputs": [
    {
     "name": "stderr",
     "output_type": "stream",
     "text": [
      "/Users/abhishek/anaconda3/lib/python3.6/site-packages/ipykernel_launcher.py:22: SettingWithCopyWarning: \n",
      "A value is trying to be set on a copy of a slice from a DataFrame.\n",
      "Try using .loc[row_indexer,col_indexer] = value instead\n",
      "\n",
      "See the caveats in the documentation: http://pandas.pydata.org/pandas-docs/stable/indexing.html#indexing-view-versus-copy\n",
      "/Users/abhishek/anaconda3/lib/python3.6/site-packages/ipykernel_launcher.py:23: SettingWithCopyWarning: \n",
      "A value is trying to be set on a copy of a slice from a DataFrame.\n",
      "Try using .loc[row_indexer,col_indexer] = value instead\n",
      "\n",
      "See the caveats in the documentation: http://pandas.pydata.org/pandas-docs/stable/indexing.html#indexing-view-versus-copy\n"
     ]
    },
    {
     "name": "stdout",
     "output_type": "stream",
     "text": [
      "0 Cost:  256.090502985\n",
      "1 Cost:  119.299466\n",
      "2 Cost:  65.2096960086\n",
      "3 Cost:  42.6300748884\n",
      "4 Cost:  33.369444562\n",
      "5 Cost:  29.1360976297\n",
      "6 Cost:  27.2500982413\n",
      "7 Cost:  26.2212213741\n",
      "8 Cost:  25.6728341047\n",
      "9 Cost:  25.2974277003\n",
      "10 Cost:  25.0487479853\n",
      "11 Cost:  24.8512450126\n",
      "12 Cost:  24.7004482174\n",
      "13 Cost:  24.5737757334\n",
      "14 Cost:  24.4702170445\n",
      "15 Cost:  24.381545256\n",
      "16 Cost:  24.3066020149\n",
      "17 Cost:  24.2417790553\n",
      "18 Cost:  24.1859380308\n",
      "19 Cost:  24.1372212392\n",
      "20 Cost:  24.0946992083\n",
      "21 Cost:  24.0572893598\n",
      "22 Cost:  24.0242932136\n",
      "23 Cost:  23.9950232128\n",
      "24 Cost:  23.9689711126\n",
      "25 Cost:  23.9456750546\n",
      "26 Cost:  23.924768273\n",
      "27 Cost:  23.9059290356\n",
      "28 Cost:  23.8888919169\n",
      "29 Cost:  23.8734271998\n",
      "30 Cost:  23.8593412982\n",
      "31 Cost:  23.8464672026\n",
      "32 Cost:  23.8346623451\n",
      "33 Cost:  23.8238035462\n",
      "34 Cost:  23.813784726\n",
      "35 Cost:  23.8045139069\n",
      "36 Cost:  23.7959113409\n",
      "37 Cost:  23.7879075789\n",
      "38 Cost:  23.7804420561\n",
      "39 Cost:  23.7734617801\n",
      "40 Cost:  23.7669202904\n",
      "41 Cost:  23.7607767374\n",
      "42 Cost:  23.7549951226\n",
      "43 Cost:  23.7495436382\n",
      "44 Cost:  23.744394111\n",
      "45 Cost:  23.7395215231\n",
      "46 Cost:  23.7349036027\n",
      "47 Cost:  23.7305204719\n",
      "48 Cost:  23.7263543449\n",
      "49 Cost:  23.7223892666\n",
      "50 Cost:  23.7186108878\n",
      "51 Cost:  23.7150062711\n",
      "52 Cost:  23.7115637219\n",
      "53 Cost:  23.7082726426\n",
      "54 Cost:  23.7051234056\n",
      "55 Cost:  23.702107243\n",
      "56 Cost:  23.6992161502\n",
      "57 Cost:  23.6964428019\n",
      "58 Cost:  23.6937804787\n",
      "59 Cost:  23.6912230028\n",
      "60 Cost:  23.6887646815\n",
      "61 Cost:  23.6864002577\n",
      "62 Cost:  23.6841248663\n",
      "63 Cost:  23.6819339953\n",
      "64 Cost:  23.6798234527\n",
      "65 Cost:  23.6777893355\n",
      "66 Cost:  23.6758280036\n",
      "67 Cost:  23.6739360557\n",
      "68 Cost:  23.6721103089\n",
      "69 Cost:  23.6703477792\n",
      "70 Cost:  23.6686456651\n",
      "71 Cost:  23.6670013325\n",
      "72 Cost:  23.6654123012\n",
      "73 Cost:  23.6638762329\n",
      "74 Cost:  23.6623909201\n",
      "75 Cost:  23.6609542765\n",
      "76 Cost:  23.659564328\n",
      "77 Cost:  23.6582192046\n",
      "78 Cost:  23.6569171331\n",
      "79 Cost:  23.6556564307\n",
      "80 Cost:  23.6544354983\n",
      "81 Cost:  23.6532528159\n",
      "82 Cost:  23.6521069367\n",
      "83 Cost:  23.6509964828\n",
      "84 Cost:  23.6499201411\n",
      "85 Cost:  23.6488766591\n",
      "86 Cost:  23.6478648414\n",
      "87 Cost:  23.6468835464\n",
      "88 Cost:  23.6459316831\n",
      "89 Cost:  23.6450082086\n",
      "90 Cost:  23.6441121247\n",
      "91 Cost:  23.6432424764\n",
      "92 Cost:  23.6423983487\n",
      "93 Cost:  23.6415788654\n",
      "94 Cost:  23.640783186\n",
      "95 Cost:  23.640010505\n",
      "96 Cost:  23.6392600493\n",
      "97 Cost:  23.6385310768\n",
      "98 Cost:  23.6378228753\n",
      "99 Cost:  23.6371347603\n"
     ]
    }
   ],
   "source": [
    "train_x, train_y, test_x = read_data()\n",
    "\n",
    "learning_rate = 0.001\n",
    "num_iterations = 100\n",
    "\n",
    "m = run(train_x, train_y, learning_rate, num_iterations)\n",
    "\n",
    "y = predict(test_x, m)\n",
    "\n",
    "np.savetxt(\"output.csv\", y, fmt= '%0.5f')"
   ]
  }
 ],
 "metadata": {
  "kernelspec": {
   "display_name": "Python 3",
   "language": "python",
   "name": "python3"
  },
  "language_info": {
   "codemirror_mode": {
    "name": "ipython",
    "version": 3
   },
   "file_extension": ".py",
   "mimetype": "text/x-python",
   "name": "python",
   "nbconvert_exporter": "python",
   "pygments_lexer": "ipython3",
   "version": "3.6.3"
  }
 },
 "nbformat": 4,
 "nbformat_minor": 2
}
