{
 "cells": [
  {
   "cell_type": "code",
   "execution_count": 1,
   "metadata": {
    "collapsed": true
   },
   "outputs": [],
   "source": [
    "import numpy as np"
   ]
  },
  {
   "cell_type": "code",
   "execution_count": 9,
   "metadata": {
    "collapsed": true
   },
   "outputs": [],
   "source": [
    "def step_gradient(points, learning_rate, m, c):\n",
    "    m_slope = 0\n",
    "    c_slope = 0\n",
    "    N = len(points)\n",
    "    for i in range(N):\n",
    "        x = points[i,0]\n",
    "        y = points[i,1]\n",
    "        m_slope += (-2/N)* (y - m*x - c) * x\n",
    "        c_slope += (-2/N) * (y - m*x - c) \n",
    "    \n",
    "    new_m = m - learning_rate * m_slope\n",
    "    new_c = c - learning_rate * c_slope \n",
    "    \n",
    "    return new_m, new_c"
   ]
  },
  {
   "cell_type": "code",
   "execution_count": 10,
   "metadata": {
    "collapsed": true
   },
   "outputs": [],
   "source": [
    "def gd(points, learning_rate, num_iterations):\n",
    "    m = 0\n",
    "    c = 0\n",
    "    for i in range(num_iterations):\n",
    "        m,c = step_gradient(points, learning_rate, m, c)\n",
    "        print(i, \"Cost: \", cost(points,m,c))\n",
    "    return m, c\n",
    "    "
   ]
  },
  {
   "cell_type": "code",
   "execution_count": 11,
   "metadata": {
    "collapsed": true
   },
   "outputs": [],
   "source": [
    "def cost(points, m, c):\n",
    "    N = len(points)\n",
    "    cost = 0\n",
    "    for i in range(N):\n",
    "        x = points[i,0]\n",
    "        y = points[i,1]\n",
    "        cost += (1/N) * ((y - m*x - c)**2)\n",
    "    return cost "
   ]
  },
  {
   "cell_type": "code",
   "execution_count": 20,
   "metadata": {},
   "outputs": [],
   "source": [
    "def run():\n",
    "    data = np.loadtxt(\"data.csv\", delimiter = \",\")\n",
    "    \n",
    "    learning_rate = 0.0001\n",
    "    num_iterations = 10\n",
    "    m,c = gd(data, learning_rate, num_iterations)\n",
    "    print(m,c)"
   ]
  },
  {
   "cell_type": "code",
   "execution_count": 21,
   "metadata": {},
   "outputs": [
    {
     "name": "stdout",
     "output_type": "stream",
     "text": [
      "0 Cost:  1484.58655741\n",
      "1 Cost:  457.854257574\n",
      "2 Cost:  199.509985726\n",
      "3 Cost:  134.505910582\n",
      "4 Cost:  118.149693422\n",
      "5 Cost:  114.03414906\n",
      "6 Cost:  112.998577317\n",
      "7 Cost:  112.737981876\n",
      "8 Cost:  112.672384359\n",
      "9 Cost:  112.655851815\n",
      "1.47741737555 0.0296393478747\n"
     ]
    }
   ],
   "source": [
    "run()"
   ]
  },
  {
   "cell_type": "code",
   "execution_count": null,
   "metadata": {
    "collapsed": true
   },
   "outputs": [],
   "source": []
  }
 ],
 "metadata": {
  "kernelspec": {
   "display_name": "Python 3",
   "language": "python",
   "name": "python3"
  },
  "language_info": {
   "codemirror_mode": {
    "name": "ipython",
    "version": 3
   },
   "file_extension": ".py",
   "mimetype": "text/x-python",
   "name": "python",
   "nbconvert_exporter": "python",
   "pygments_lexer": "ipython3",
   "version": "3.6.3"
  }
 },
 "nbformat": 4,
 "nbformat_minor": 2
}
