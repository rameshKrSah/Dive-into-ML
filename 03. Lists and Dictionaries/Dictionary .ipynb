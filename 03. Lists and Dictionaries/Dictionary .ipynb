{
 "cells": [
  {
   "cell_type": "markdown",
   "metadata": {},
   "source": [
    "In python, \n",
    "\n",
    "* {} curly braces for dictionary,\n",
    "* [] square bakcets for lists\n",
    "* () small brackets for tuple."
   ]
  },
  {
   "cell_type": "markdown",
   "metadata": {},
   "source": [
    "In dictionary, we can have anything eg int, float, string, tuple etc as a key value/ index.\n",
    "And we can have corresponding values.\n",
    "\n",
    "Keys in dictionary need to be immutable.\n",
    "\n",
    "A list can not be the key for a dictionary, but it can be a dictionary value.\n",
    "\n",
    "d = {key: value, key:value}\n",
    "\n",
    "Insert a new key,\n",
    "Update if key is already present. \n"
   ]
  },
  {
   "cell_type": "code",
   "execution_count": 7,
   "metadata": {},
   "outputs": [
    {
     "name": "stdout",
     "output_type": "stream",
     "text": [
      "{23: 34, 'strd': 353}\n",
      "{23: 45, 'sfj': 4924, 1: 4}\n"
     ]
    }
   ],
   "source": [
    "#Creating a Dictionary and update/insert\n",
    "\n",
    "d = {}         #curly braces for dictionary\n",
    "d[23] = 34 \n",
    "d[\"strd\"] = 353\n",
    "\n",
    "print(d)\n",
    "\n",
    "d = {23:45, \"sfj\":4924, 1 : 4}\n",
    "print(d1)\n",
    "\n"
   ]
  },
  {
   "cell_type": "code",
   "execution_count": 10,
   "metadata": {},
   "outputs": [
    {
     "name": "stdout",
     "output_type": "stream",
     "text": [
      "23 - 45\n",
      "sfj - 4924\n",
      "1 - 4\n"
     ]
    }
   ],
   "source": [
    "#Fast iteration on Dictionary\n",
    "\n",
    "for i in d:\n",
    "    print(i, end = \" - \")\n",
    "    print(d[i])"
   ]
  },
  {
   "cell_type": "code",
   "execution_count": 11,
   "metadata": {},
   "outputs": [
    {
     "data": {
      "text/plain": [
       "{'sfj': 4924, 1: 4}"
      ]
     },
     "execution_count": 11,
     "metadata": {},
     "output_type": "execute_result"
    }
   ],
   "source": [
    "#Delete element in a dicionary \n",
    "\n",
    "del d[23]\n",
    "d"
   ]
  },
  {
   "cell_type": "code",
   "execution_count": 18,
   "metadata": {},
   "outputs": [
    {
     "name": "stdout",
     "output_type": "stream",
     "text": [
      "True\n",
      "1\n",
      "{}\n",
      "dict_keys([2])\n",
      "dict_values([1])\n"
     ]
    },
    {
     "data": {
      "text/plain": [
       "False"
      ]
     },
     "execution_count": 18,
     "metadata": {},
     "output_type": "execute_result"
    }
   ],
   "source": [
    "#Common  Functions\n",
    "d1 = {}\n",
    "d1[2] = 1\n",
    "\n",
    "d2 = {}\n",
    "d2[2] = 1\n",
    " \n",
    "print(d1 == d2)\n",
    "\n",
    "print(len(d1))     #returns the length of the dictionary \n",
    "\n",
    "d1.clear()\n",
    "print(d1)      #clears the dictionary \n",
    "\n",
    "\n",
    "print(d2.keys())    #returns the list of all keys \n",
    "print(d2.values())   #returns the list of all values\n",
    "\n",
    "\n",
    "23 in d2     #checks if 23 key is in the dictionary or not,  returns boolean"
   ]
  },
  {
   "cell_type": "code",
   "execution_count": 23,
   "metadata": {},
   "outputs": [
    {
     "name": "stdout",
     "output_type": "stream",
     "text": [
      "5\n",
      "13 17 5 4 6\n",
      "17 6 "
     ]
    }
   ],
   "source": [
    "#Leaders in an array \n",
    "n = int(input())\n",
    "l = [int(x) for x in input().strip().split(\" \")]\n",
    "\n",
    "def isLeader(a,l):\n",
    "    for j in range (a, n):\n",
    "        if(l[j] > l[a]):\n",
    "            return False\n",
    "    return True    \n",
    "\n",
    "for i in range(n):\n",
    "    if(isLeader(i,l)):\n",
    "        print(l[i], end = \" \")\n",
    "\n",
    "        "
   ]
  },
  {
   "cell_type": "code",
   "execution_count": 32,
   "metadata": {},
   "outputs": [
    {
     "name": "stdout",
     "output_type": "stream",
     "text": [
      "Welcome to Coding Ninjas\n",
      "Ninjas Coding to Welcome "
     ]
    }
   ],
   "source": [
    "#Reverse String word wise\n",
    "\n",
    "l = input().strip().split(\" \")\n",
    "n = len(l)\n",
    "\n",
    "for i in range(-1, -n-1, -1):\n",
    "    print (l[i], end = \" \")"
   ]
  },
  {
   "cell_type": "code",
   "execution_count": 38,
   "metadata": {},
   "outputs": [
    {
     "name": "stdout",
     "output_type": "stream",
     "text": [
      "20\n",
      "638973 645291 675620 816372 1506908 1967694 2254043 3372745 4391096 4664775 4969272 5136139 5284404 5290990 5738346 6647179 8530991 8561173 8740274 9924137\n",
      "20\n",
      "932401 1042418 1535844 1607325 1925530 2674334 3222671 3637272 5103702 6304131 6318625 6570572 6918600 7566677 7923001 8211633 8278595 8588260 9575465 9782926 \n",
      "9924137\n"
     ]
    }
   ],
   "source": [
    "#Maximise the sum \n",
    "\n",
    "n1 = int(input())\n",
    "l1 = [int(x) for x in input().strip().split(\" \")]\n",
    "n2 = int(input())\n",
    "l2 = [int(x) for x in input().strip().split(\" \")]\n",
    "\n",
    "maxSum = 0\n",
    "sum1 = 0\n",
    "sum2 = 0\n",
    "i =0\n",
    "j =0\n",
    "\n",
    "while i<n1 and j<n2:\n",
    "    if l1[i] < l2[j]:\n",
    "        sum1 += l1[i]\n",
    "        i += 1\n",
    "    elif l2[j] < l1[i]:\n",
    "        sum2 +=l2[j]\n",
    "        j += 1\n",
    "    else:\n",
    "        sum1 += l1[i]\n",
    "        sum2 += l2[j]\n",
    "        \n",
    "        if sum1 >sum2 : \n",
    "            maxSum += sum1\n",
    "        else:\n",
    "            maxSum += sum2\n",
    "        i += 1\n",
    "        j += 1\n",
    "        sum1, sum2 = 0,0\n",
    "\n",
    "while(i<n1):\n",
    "    maxSum += l1[i]\n",
    "    i += 1\n",
    "while(j<n2):\n",
    "    maxSum += l2[j]\n",
    "    j += 1\n",
    "\n",
    "print(maxSum)"
   ]
  },
  {
   "cell_type": "code",
   "execution_count": 18,
   "metadata": {},
   "outputs": [
    {
     "name": "stdout",
     "output_type": "stream",
     "text": [
      "uhuchwucdshhdbhjcdchbbdhdb\n",
      "u\n",
      "uh\n",
      "hu\n",
      "huc\n",
      "uch\n",
      "uchw\n",
      "huchwu\n",
      "hwuc\n",
      "hwucd\n",
      "hwucds\n",
      "uchwucdsh\n",
      "uchwucdshh\n",
      "shhd\n",
      "shhdb\n",
      "uchwucdshhdbh\n",
      "uchwucdshhdbhj\n",
      "hwucdshhdbhjc\n",
      "shhdbhjcd\n",
      "hwucdshhdbhjcdc\n",
      "uchwucdshhdbhjcdch\n",
      "hjcdchb\n",
      "hjcdchbb\n",
      "shhdbhjcdchbbd\n",
      "uchwucdshhdbhjcdchbbdh\n",
      "shhdbhjcdchbbdhd\n",
      "hjcdchbbdhdb\n",
      "uchwucds\n"
     ]
    }
   ],
   "source": [
    "#largest unique substring\n",
    "\n",
    "s = input()\n",
    "\n",
    "length = 0\n",
    "maxStart = 0\n",
    "maxLength = 0\n",
    "out = \"\"\n",
    "\n",
    "start, end = 0,0\n",
    "while end < len(s):\n",
    "    if s[end] in out:\n",
    "        start = 1 + s.find(s[end])\n",
    "        out = s[start:end+1]\n",
    "        end += 1\n",
    "        \n",
    "    else:\n",
    "        out += s[end]\n",
    "        length += 1\n",
    "        end +=1\n",
    "    \n",
    "    if length > maxLength:\n",
    "        maxLength = length\n",
    "        maxStart = start \n",
    "    print(out)    \n",
    "   \n",
    "\n",
    "print(s[maxStart: maxStart+maxLength])"
   ]
  },
  {
   "cell_type": "code",
   "execution_count": 15,
   "metadata": {},
   "outputs": [
    {
     "name": "stdout",
     "output_type": "stream",
     "text": [
      "2\n"
     ]
    }
   ],
   "source": [
    "s = \"abcdc\"\n",
    "print(s.find('c'))"
   ]
  }
 ],
 "metadata": {
  "kernelspec": {
   "display_name": "Python 3",
   "language": "python",
   "name": "python3"
  },
  "language_info": {
   "codemirror_mode": {
    "name": "ipython",
    "version": 3
   },
   "file_extension": ".py",
   "mimetype": "text/x-python",
   "name": "python",
   "nbconvert_exporter": "python",
   "pygments_lexer": "ipython3",
   "version": "3.6.3"
  }
 },
 "nbformat": 4,
 "nbformat_minor": 2
}
