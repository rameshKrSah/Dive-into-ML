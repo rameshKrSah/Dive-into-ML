{
 "cells": [
  {
   "cell_type": "code",
   "execution_count": 4,
   "metadata": {},
   "outputs": [
    {
     "name": "stdout",
     "output_type": "stream",
     "text": [
      "<class 'list'>\n",
      "[]\n",
      "[1, 2, 3]\n",
      "[0, 1, 2, 3, 4, 5, 6, 7, 8, 9]\n",
      "<class 'list'>\n",
      "[0, 'ab', 22.5, True]\n"
     ]
    }
   ],
   "source": [
    "#Creating Lists \n",
    "\n",
    "a = [1,2,3]\n",
    "print(type(a))\n",
    "\n",
    "a1 = list()\n",
    "print(a1)\n",
    "\n",
    "a2 = list(a)\n",
    "print(a2)\n",
    "\n",
    "a3 = [ i for i in range(10)]\n",
    "print(a3)\n",
    "\n",
    "a4 = [0, \"ab\", 22.5, True]\n",
    "print(type(a4))\n",
    "print(a4)"
   ]
  },
  {
   "cell_type": "markdown",
   "metadata": {},
   "source": [
    "A list in python need not have same kind of data type.\n"
   ]
  },
  {
   "cell_type": "code",
   "execution_count": 6,
   "metadata": {},
   "outputs": [
    {
     "name": "stdout",
     "output_type": "stream",
     "text": [
      "1\n",
      "2\n",
      "3\n",
      "[2]\n"
     ]
    }
   ],
   "source": [
    "#Accesing Data \n",
    "\n",
    "print(a[0])\n",
    "print(a[1])\n",
    "print(a[-1])     #Negative Indexing \n",
    "\n",
    "print(a[1:2])    # slicing"
   ]
  },
  {
   "cell_type": "code",
   "execution_count": 7,
   "metadata": {},
   "outputs": [
    {
     "name": "stdout",
     "output_type": "stream",
     "text": [
      "1 2 3 "
     ]
    }
   ],
   "source": [
    "#Fast iteration \n",
    "\n",
    "for i in a:\n",
    "    print(i, end = \" \")"
   ]
  },
  {
   "cell_type": "code",
   "execution_count": 16,
   "metadata": {},
   "outputs": [
    {
     "name": "stdout",
     "output_type": "stream",
     "text": [
      "1 2 3\n",
      "['1', '2', '3']\n",
      "['', 'a', 'bc', 'djkl', 'ak', '']\n",
      "1 3 44\n",
      "[1, 3, 44]\n"
     ]
    }
   ],
   "source": [
    "#string split\n",
    "\n",
    "s = input()\n",
    "\n",
    "print(s.split(\" \"))\n",
    "\n",
    "s = \" a bc djkl ak \"\n",
    "print(s.split(\" \"))\n",
    "\n",
    "s = input().strip()\n",
    "list = s.split(\" \")\n",
    "for i in range(0,len(list)):\n",
    "    list[i] = int(list[i])\n",
    "    \n",
    "print(list)"
   ]
  },
  {
   "cell_type": "code",
   "execution_count": 17,
   "metadata": {},
   "outputs": [
    {
     "name": "stdout",
     "output_type": "stream",
     "text": [
      " 1 2 3 \n",
      "[1, 2, 3]\n"
     ]
    }
   ],
   "source": [
    "#Faster way for int array input by  strip, split and conversiont to int\n",
    "\n",
    "l = [int(x) for x in input().strip().split(\" \")]\n",
    "print(l)"
   ]
  },
  {
   "cell_type": "code",
   "execution_count": 25,
   "metadata": {},
   "outputs": [
    {
     "name": "stdout",
     "output_type": "stream",
     "text": [
      "[1, 2, 4, 32]\n",
      "[1, 12, 2, 4, 32]\n",
      "[1, 12, 2, 4, 32, 9, 8, 7]\n"
     ]
    }
   ],
   "source": [
    "#Add elements in the list\n",
    "\n",
    "l = [1,2, 4]\n",
    "l.append(32)    #add element at the end\n",
    "print(l)\n",
    "\n",
    "l.insert(1, 12)   # add element at the index and move from the index to end, rightwards\n",
    "print(l)\n",
    "\n",
    "l2 = [9,8,7]\n",
    "l.extend(l2)      #add whole l2 list at the end of l\n",
    "print(l)"
   ]
  },
  {
   "cell_type": "code",
   "execution_count": 27,
   "metadata": {},
   "outputs": [
    {
     "name": "stdout",
     "output_type": "stream",
     "text": [
      "[1, 12, 4, 32, 9]\n",
      "[1, 12, 32, 9]\n"
     ]
    }
   ],
   "source": [
    "#Deleting the elements\n",
    "l.pop()      #without argument pop deletes the last element everytime we execute the program\n",
    "print(l)\n",
    "\n",
    "l.pop(2)     #with argumnet passed,pop deletes the element at that index\n",
    "print(l)"
   ]
  },
  {
   "cell_type": "code",
   "execution_count": 32,
   "metadata": {},
   "outputs": [
    {
     "name": "stdout",
     "output_type": "stream",
     "text": [
      "[32]\n",
      "[1, 4, 6, 7, 2, 8]\n"
     ]
    }
   ],
   "source": [
    "l.remove(9)   # removes the first occurrence of the element 12 \n",
    "print(l)\n",
    "\n",
    "l2 = [1,4,6,2,7,2,8]\n",
    "l2.remove(2)\n",
    "print(l2)"
   ]
  },
  {
   "cell_type": "code",
   "execution_count": 34,
   "metadata": {},
   "outputs": [
    {
     "name": "stdout",
     "output_type": "stream",
     "text": [
      "[1, 4, 2, 8]\n",
      "[1]\n"
     ]
    }
   ],
   "source": [
    "del l2[2]\n",
    "print(l2)\n",
    "\n",
    "del l2[1:4]     #deleted the complete slice or range \n",
    "print(l2)"
   ]
  },
  {
   "cell_type": "code",
   "execution_count": 39,
   "metadata": {},
   "outputs": [
    {
     "data": {
      "text/plain": [
       "[1, 2, 3, 1, 2, 3]"
      ]
     },
     "execution_count": 39,
     "metadata": {},
     "output_type": "execute_result"
    }
   ],
   "source": [
    "#Addition of list with another list \n",
    "\n",
    "l = [1,2,3]\n",
    "l+l\n",
    "\n",
    "#list + int invalid\n",
    "#l +2\n",
    "\n",
    "l*2    #means copying list 2 times"
   ]
  },
  {
   "cell_type": "code",
   "execution_count": 46,
   "metadata": {},
   "outputs": [
    {
     "name": "stdout",
     "output_type": "stream",
     "text": [
      "[2, 2, 4, 10, 81]\n",
      "2\n",
      "4\n",
      "[81, 10, 4, 2, 2]\n"
     ]
    },
    {
     "data": {
      "text/plain": [
       "True"
      ]
     },
     "execution_count": 46,
     "metadata": {},
     "output_type": "execute_result"
    }
   ],
   "source": [
    "#SORTING OF LIST\n",
    "l = [4,2,81,2,10]\n",
    "l.sort()\n",
    "print(l)\n",
    "\n",
    "print(l.count(2))\n",
    "print(l.index(81))\n",
    "\n",
    "l.reverse()\n",
    "print(l)\n",
    "\n",
    "4 in l        #returns Boolean if 4 is in the list or not"
   ]
  },
  {
   "cell_type": "code",
   "execution_count": 49,
   "metadata": {},
   "outputs": [
    {
     "name": "stdout",
     "output_type": "stream",
     "text": [
      "[1, 2, 3, 4, 5, 7]\n"
     ]
    }
   ],
   "source": [
    "#Bubble Sort\n",
    "\n",
    "l = [3,5,2,7,1,4]\n",
    "n = len(l)\n",
    "for i in range(n-1):  #n-1 because when n-1 elements are in ri8 position defintely last would be in right position.\n",
    "    for j in range(n-1-i):   #-i because everytime the largest number is bubbling at the end so last comparison is reduntant\n",
    "        if(l[j]> l[j+1]):\n",
    "            l[j], l[j+1] = l[j+1], l[j   #swapping\n",
    "            \n",
    "print(l)            "
   ]
  },
  {
   "cell_type": "code",
   "execution_count": 67,
   "metadata": {},
   "outputs": [
    {
     "name": "stdout",
     "output_type": "stream",
     "text": [
      "5\n",
      "1 6 3 5 2\n",
      "1 2 3 5 6 "
     ]
    }
   ],
   "source": [
    "# Selection Sort \n",
    "\n",
    "n = int(input())\n",
    "l = [int(x) for x in input().strip().split(\" \")]\n",
    "\n",
    "\n",
    "for i in range(n-1):\n",
    "    min_index = i \n",
    "    for j in range(i+1,n):\n",
    "        if l[j] < l[min_index]:\n",
    "            min_index = j\n",
    "            \n",
    "    l[i], l[min_index] = l[min_index], l[i]  \n",
    "\n",
    "\n",
    "for x in l:\n",
    "  print(x, end = \" \") "
   ]
  },
  {
   "cell_type": "code",
   "execution_count": 73,
   "metadata": {},
   "outputs": [
    {
     "name": "stdout",
     "output_type": "stream",
     "text": [
      "7 \n",
      "-7 1 5 2 -4 3 0\n",
      "3\n"
     ]
    }
   ],
   "source": [
    "#Equilibrium index \n",
    "\n",
    "n = int(input())\n",
    "l = [int(x) for x in input().strip().split(\" \")]\n",
    "\n",
    "sum = 0\n",
    "for x in l:\n",
    "  sum += x\n",
    "  \n",
    "lsum = 0  \n",
    "for i in range(n):\n",
    "  if sum-l[i]-lsum == lsum:\n",
    "    print(i)\n",
    "    break\n",
    "  \n",
    "  lsum += l[i]"
   ]
  }
 ],
 "metadata": {
  "kernelspec": {
   "display_name": "Python 3",
   "language": "python",
   "name": "python3"
  },
  "language_info": {
   "codemirror_mode": {
    "name": "ipython",
    "version": 3
   },
   "file_extension": ".py",
   "mimetype": "text/x-python",
   "name": "python",
   "nbconvert_exporter": "python",
   "pygments_lexer": "ipython3",
   "version": "3.6.3"
  }
 },
 "nbformat": 4,
 "nbformat_minor": 2
}
