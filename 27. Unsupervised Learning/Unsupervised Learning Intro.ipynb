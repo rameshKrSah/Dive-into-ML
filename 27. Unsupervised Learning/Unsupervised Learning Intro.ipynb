{
 "cells": [
  {
   "cell_type": "markdown",
   "metadata": {},
   "source": [
    "## Unsupervised Learning \n",
    "\n",
    "1. Clustering\n",
    "2. Anamoly Detection \n",
    "3. PCA"
   ]
  },
  {
   "cell_type": "markdown",
   "metadata": {},
   "source": [
    "## Clustering\n",
    "\n",
    "There are two types of Clustering:\n",
    "1. Flat Clustering:\n",
    "    * In Flat clustering, a data point can belong to 1 cluster.\n",
    "2. Hierarchical clustering: \n",
    "    * In Hierarchical clustering, a data point can belong to \"No of levels\" many clusters.\n",
    "\n"
   ]
  },
  {
   "cell_type": "markdown",
   "metadata": {},
   "source": [
    "## Clustering Algorithms:\n",
    "1. KMeans\n",
    "\n"
   ]
  }
 ],
 "metadata": {
  "kernelspec": {
   "display_name": "Python 3",
   "language": "python",
   "name": "python3"
  },
  "language_info": {
   "codemirror_mode": {
    "name": "ipython",
    "version": 3
   },
   "file_extension": ".py",
   "mimetype": "text/x-python",
   "name": "python",
   "nbconvert_exporter": "python",
   "pygments_lexer": "ipython3",
   "version": "3.6.3"
  }
 },
 "nbformat": 4,
 "nbformat_minor": 2
}
