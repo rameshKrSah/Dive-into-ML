{
 "cells": [
  {
   "cell_type": "code",
   "execution_count": 1,
   "metadata": {
    "collapsed": true
   },
   "outputs": [],
   "source": [
    "from sklearn import datasets, svm\n",
    "from sklearn.model_selection import train_test_split\n",
    "from sklearn.model_selection import GridSearchCV\n",
    "from sklearn.neighbors import KNeighborsClassifier"
   ]
  },
  {
   "cell_type": "code",
   "execution_count": 2,
   "metadata": {
    "collapsed": true
   },
   "outputs": [],
   "source": [
    "iris = datasets.load_iris()\n",
    "x = iris.data\n",
    "y = iris.target"
   ]
  },
  {
   "cell_type": "code",
   "execution_count": 3,
   "metadata": {
    "collapsed": true
   },
   "outputs": [],
   "source": [
    "x_train, x_test, y_train, y_test = train_test_split(x,y)"
   ]
  },
  {
   "cell_type": "markdown",
   "metadata": {},
   "source": [
    "## Cross Validation on Kneighbors"
   ]
  },
  {
   "cell_type": "code",
   "execution_count": 4,
   "metadata": {},
   "outputs": [
    {
     "data": {
      "text/plain": [
       "GridSearchCV(cv=None, error_score='raise',\n",
       "       estimator=KNeighborsClassifier(algorithm='auto', leaf_size=30, metric='minkowski',\n",
       "           metric_params=None, n_jobs=1, n_neighbors=5, p=2,\n",
       "           weights='uniform'),\n",
       "       fit_params=None, iid=True, n_jobs=1,\n",
       "       param_grid={'n_neighbors': [3, 5, 7, 9, 11]},\n",
       "       pre_dispatch='2*n_jobs', refit=True, return_train_score='warn',\n",
       "       scoring=None, verbose=0)"
      ]
     },
     "execution_count": 4,
     "metadata": {},
     "output_type": "execute_result"
    }
   ],
   "source": [
    "clf = KNeighborsClassifier()\n",
    "grid = {\"n_neighbors\": [3,5,7,9,11]}\n",
    "abc = GridSearchCV(clf, grid)\n",
    "abc.fit(x_train, y_train)"
   ]
  },
  {
   "cell_type": "markdown",
   "metadata": {},
   "source": [
    "## Docs\n",
    "** GridSearchCV()**\n",
    "\n",
    "    * Exhaustive search over specified parameter values for an estimator.\n",
    "    * The parameters of the estimator used to apply these methods are optimized by cross-validated grid-search over a parameter grid.\n",
    "\n",
    "**Grid**\n",
    "\n",
    "    * Dictionary with parameters names (string) as keys and lists of parameter settings to try as values, \n",
    "    * or a list of such dictionaries, in which case the grids spanned by each dictionary in the list are explored. \n",
    "    * This enables searching over any sequence of parameter settings."
   ]
  },
  {
   "cell_type": "code",
   "execution_count": 5,
   "metadata": {},
   "outputs": [
    {
     "data": {
      "text/plain": [
       "KNeighborsClassifier(algorithm='auto', leaf_size=30, metric='minkowski',\n",
       "           metric_params=None, n_jobs=1, n_neighbors=7, p=2,\n",
       "           weights='uniform')"
      ]
     },
     "execution_count": 5,
     "metadata": {},
     "output_type": "execute_result"
    }
   ],
   "source": [
    "abc.best_estimator_"
   ]
  },
  {
   "cell_type": "code",
   "execution_count": 6,
   "metadata": {},
   "outputs": [
    {
     "name": "stderr",
     "output_type": "stream",
     "text": [
      "/Users/abhishek/anaconda3/lib/python3.6/site-packages/sklearn/utils/deprecation.py:122: FutureWarning: You are accessing a training score ('mean_train_score'), which will not be available by default any more in 0.21. If you need training scores, please set return_train_score=True\n",
      "  warnings.warn(*warn_args, **warn_kwargs)\n",
      "/Users/abhishek/anaconda3/lib/python3.6/site-packages/sklearn/utils/deprecation.py:122: FutureWarning: You are accessing a training score ('split0_train_score'), which will not be available by default any more in 0.21. If you need training scores, please set return_train_score=True\n",
      "  warnings.warn(*warn_args, **warn_kwargs)\n",
      "/Users/abhishek/anaconda3/lib/python3.6/site-packages/sklearn/utils/deprecation.py:122: FutureWarning: You are accessing a training score ('split1_train_score'), which will not be available by default any more in 0.21. If you need training scores, please set return_train_score=True\n",
      "  warnings.warn(*warn_args, **warn_kwargs)\n",
      "/Users/abhishek/anaconda3/lib/python3.6/site-packages/sklearn/utils/deprecation.py:122: FutureWarning: You are accessing a training score ('split2_train_score'), which will not be available by default any more in 0.21. If you need training scores, please set return_train_score=True\n",
      "  warnings.warn(*warn_args, **warn_kwargs)\n",
      "/Users/abhishek/anaconda3/lib/python3.6/site-packages/sklearn/utils/deprecation.py:122: FutureWarning: You are accessing a training score ('std_train_score'), which will not be available by default any more in 0.21. If you need training scores, please set return_train_score=True\n",
      "  warnings.warn(*warn_args, **warn_kwargs)\n"
     ]
    },
    {
     "data": {
      "text/plain": [
       "{'mean_fit_time': array([ 0.00088819,  0.00056656,  0.00033029,  0.00030375,  0.00033538]),\n",
       " 'mean_score_time': array([ 0.00128778,  0.00116777,  0.00072138,  0.00059064,  0.0006179 ]),\n",
       " 'mean_test_score': array([ 0.96428571,  0.95535714,  0.97321429,  0.97321429,  0.96428571]),\n",
       " 'mean_train_score': array([ 0.96443812,  0.96443812,  0.96443812,  0.95981508,  0.96882409]),\n",
       " 'param_n_neighbors': masked_array(data = [3 5 7 9 11],\n",
       "              mask = [False False False False False],\n",
       "        fill_value = ?),\n",
       " 'params': [{'n_neighbors': 3},\n",
       "  {'n_neighbors': 5},\n",
       "  {'n_neighbors': 7},\n",
       "  {'n_neighbors': 9},\n",
       "  {'n_neighbors': 11}],\n",
       " 'rank_test_score': array([3, 5, 1, 1, 3], dtype=int32),\n",
       " 'split0_test_score': array([ 0.94736842,  0.94736842,  0.94736842,  0.94736842,  0.94736842]),\n",
       " 'split0_train_score': array([ 0.97297297,  0.97297297,  0.97297297,  0.95945946,  0.98648649]),\n",
       " 'split1_test_score': array([ 0.94736842,  0.94736842,  0.97368421,  0.97368421,  0.97368421]),\n",
       " 'split1_train_score': array([ 0.97297297,  0.97297297,  0.97297297,  0.95945946,  0.95945946]),\n",
       " 'split2_test_score': array([ 1.        ,  0.97222222,  1.        ,  1.        ,  0.97222222]),\n",
       " 'split2_train_score': array([ 0.94736842,  0.94736842,  0.94736842,  0.96052632,  0.96052632]),\n",
       " 'std_fit_time': array([  1.25238284e-04,   2.29964274e-04,   5.40603577e-05,\n",
       "          1.43329033e-05,   6.48061092e-05]),\n",
       " 'std_score_time': array([  2.56464398e-04,   5.70875087e-04,   1.68161717e-04,\n",
       "          1.65689001e-05,   5.38580950e-05]),\n",
       " 'std_test_score': array([ 0.02458026,  0.01160734,  0.02138545,  0.02138545,  0.01213745]),\n",
       " 'std_train_score': array([ 0.0120701 ,  0.0120701 ,  0.0120701 ,  0.00050292,  0.01249679])}"
      ]
     },
     "execution_count": 6,
     "metadata": {},
     "output_type": "execute_result"
    }
   ],
   "source": [
    "abc.cv_results_"
   ]
  },
  {
   "cell_type": "markdown",
   "metadata": {},
   "source": [
    "## Cross Validation on SVC"
   ]
  },
  {
   "cell_type": "code",
   "execution_count": 9,
   "metadata": {},
   "outputs": [
    {
     "data": {
      "text/plain": [
       "GridSearchCV(cv=None, error_score='raise',\n",
       "       estimator=SVC(C=1.0, cache_size=200, class_weight=None, coef0=0.0,\n",
       "  decision_function_shape='ovr', degree=3, gamma='auto', kernel='rbf',\n",
       "  max_iter=-1, probability=False, random_state=None, shrinking=True,\n",
       "  tol=0.001, verbose=False),\n",
       "       fit_params=None, iid=True, n_jobs=1,\n",
       "       param_grid={'C': [100.0, 1000.0, 5000.0, 10000.0, 50000.0, 100000.0], 'gamma': [0.001, 0.0005, 0.0001, 0.005]},\n",
       "       pre_dispatch='2*n_jobs', refit=True, return_train_score='warn',\n",
       "       scoring=None, verbose=0)"
      ]
     },
     "execution_count": 9,
     "metadata": {},
     "output_type": "execute_result"
    }
   ],
   "source": [
    "clf1 = svm.SVC()\n",
    "grid = {'C' : [1e2, 1e3, 5e3, 1e4, 5e4, 1e5],\n",
    "       'gamma' : [1e-3, 5e-4, 1e-4, 5e-3] }\n",
    "\n",
    "abc = GridSearchCV(clf1, grid)\n",
    "abc.fit(x_train, y_train)"
   ]
  },
  {
   "cell_type": "code",
   "execution_count": 10,
   "metadata": {},
   "outputs": [
    {
     "data": {
      "text/plain": [
       "SVC(C=100.0, cache_size=200, class_weight=None, coef0=0.0,\n",
       "  decision_function_shape='ovr', degree=3, gamma=0.005, kernel='rbf',\n",
       "  max_iter=-1, probability=False, random_state=None, shrinking=True,\n",
       "  tol=0.001, verbose=False)"
      ]
     },
     "execution_count": 10,
     "metadata": {},
     "output_type": "execute_result"
    }
   ],
   "source": [
    "abc.best_estimator_"
   ]
  },
  {
   "cell_type": "code",
   "execution_count": 11,
   "metadata": {},
   "outputs": [
    {
     "name": "stderr",
     "output_type": "stream",
     "text": [
      "/Users/abhishek/anaconda3/lib/python3.6/site-packages/sklearn/utils/deprecation.py:122: FutureWarning: You are accessing a training score ('mean_train_score'), which will not be available by default any more in 0.21. If you need training scores, please set return_train_score=True\n",
      "  warnings.warn(*warn_args, **warn_kwargs)\n",
      "/Users/abhishek/anaconda3/lib/python3.6/site-packages/sklearn/utils/deprecation.py:122: FutureWarning: You are accessing a training score ('split0_train_score'), which will not be available by default any more in 0.21. If you need training scores, please set return_train_score=True\n",
      "  warnings.warn(*warn_args, **warn_kwargs)\n",
      "/Users/abhishek/anaconda3/lib/python3.6/site-packages/sklearn/utils/deprecation.py:122: FutureWarning: You are accessing a training score ('split1_train_score'), which will not be available by default any more in 0.21. If you need training scores, please set return_train_score=True\n",
      "  warnings.warn(*warn_args, **warn_kwargs)\n",
      "/Users/abhishek/anaconda3/lib/python3.6/site-packages/sklearn/utils/deprecation.py:122: FutureWarning: You are accessing a training score ('split2_train_score'), which will not be available by default any more in 0.21. If you need training scores, please set return_train_score=True\n",
      "  warnings.warn(*warn_args, **warn_kwargs)\n",
      "/Users/abhishek/anaconda3/lib/python3.6/site-packages/sklearn/utils/deprecation.py:122: FutureWarning: You are accessing a training score ('std_train_score'), which will not be available by default any more in 0.21. If you need training scores, please set return_train_score=True\n",
      "  warnings.warn(*warn_args, **warn_kwargs)\n"
     ]
    },
    {
     "data": {
      "text/plain": [
       "{'mean_fit_time': array([ 0.00104928,  0.00102456,  0.00091203,  0.00083637,  0.0003469 ,\n",
       "         0.00038179,  0.00052627,  0.00038497,  0.00035183,  0.00041056,\n",
       "         0.00038457,  0.00063165,  0.00060439,  0.00041612,  0.00038727,\n",
       "         0.00043829,  0.00039117,  0.00039283,  0.00035389,  0.00043162,\n",
       "         0.00045117,  0.00037734,  0.00036804,  0.00069364]),\n",
       " 'mean_score_time': array([ 0.00050473,  0.00072098,  0.00062466,  0.00037599,  0.00022411,\n",
       "         0.00031463,  0.00039236,  0.00023762,  0.00021863,  0.00023238,\n",
       "         0.00029071,  0.00041938,  0.00038425,  0.00022793,  0.00023572,\n",
       "         0.00026933,  0.00022451,  0.00022316,  0.00021744,  0.00030247,\n",
       "         0.00023071,  0.00023699,  0.00021903,  0.00025908]),\n",
       " 'mean_test_score': array([ 0.95535714,  0.9375    ,  0.91071429,  0.97321429,  0.96428571,\n",
       "         0.97321429,  0.95535714,  0.95535714,  0.95535714,  0.97321429,\n",
       "         0.97321429,  0.95535714,  0.95535714,  0.95535714,  0.96428571,\n",
       "         0.94642857,  0.96428571,  0.95535714,  0.95535714,  0.96428571,\n",
       "         0.97321429,  0.96428571,  0.95535714,  0.96428571]),\n",
       " 'mean_train_score': array([ 0.95981508,  0.9419156 ,  0.91062115,  0.97771456,  0.97771456,\n",
       "         0.97771456,  0.95542911,  0.95993362,  0.96431958,  0.97771456,\n",
       "         0.97771456,  0.97771456,  0.96882409,  0.96431958,  0.97771456,\n",
       "         0.97771456,  0.97771456,  0.97321005,  0.96431958,  0.98221906,\n",
       "         0.98221906,  0.97771456,  0.96882409,  0.98672357]),\n",
       " 'param_C': masked_array(data = [100.0 100.0 100.0 100.0 1000.0 1000.0 1000.0 1000.0 5000.0 5000.0 5000.0\n",
       "  5000.0 10000.0 10000.0 10000.0 10000.0 50000.0 50000.0 50000.0 50000.0\n",
       "  100000.0 100000.0 100000.0 100000.0],\n",
       "              mask = [False False False False False False False False False False False False\n",
       "  False False False False False False False False False False False False],\n",
       "        fill_value = ?),\n",
       " 'param_gamma': masked_array(data = [0.001 0.0005 0.0001 0.005 0.001 0.0005 0.0001 0.005 0.001 0.0005 0.0001\n",
       "  0.005 0.001 0.0005 0.0001 0.005 0.001 0.0005 0.0001 0.005 0.001 0.0005\n",
       "  0.0001 0.005],\n",
       "              mask = [False False False False False False False False False False False False\n",
       "  False False False False False False False False False False False False],\n",
       "        fill_value = ?),\n",
       " 'params': [{'C': 100.0, 'gamma': 0.001},\n",
       "  {'C': 100.0, 'gamma': 0.0005},\n",
       "  {'C': 100.0, 'gamma': 0.0001},\n",
       "  {'C': 100.0, 'gamma': 0.005},\n",
       "  {'C': 1000.0, 'gamma': 0.001},\n",
       "  {'C': 1000.0, 'gamma': 0.0005},\n",
       "  {'C': 1000.0, 'gamma': 0.0001},\n",
       "  {'C': 1000.0, 'gamma': 0.005},\n",
       "  {'C': 5000.0, 'gamma': 0.001},\n",
       "  {'C': 5000.0, 'gamma': 0.0005},\n",
       "  {'C': 5000.0, 'gamma': 0.0001},\n",
       "  {'C': 5000.0, 'gamma': 0.005},\n",
       "  {'C': 10000.0, 'gamma': 0.001},\n",
       "  {'C': 10000.0, 'gamma': 0.0005},\n",
       "  {'C': 10000.0, 'gamma': 0.0001},\n",
       "  {'C': 10000.0, 'gamma': 0.005},\n",
       "  {'C': 50000.0, 'gamma': 0.001},\n",
       "  {'C': 50000.0, 'gamma': 0.0005},\n",
       "  {'C': 50000.0, 'gamma': 0.0001},\n",
       "  {'C': 50000.0, 'gamma': 0.005},\n",
       "  {'C': 100000.0, 'gamma': 0.001},\n",
       "  {'C': 100000.0, 'gamma': 0.0005},\n",
       "  {'C': 100000.0, 'gamma': 0.0001},\n",
       "  {'C': 100000.0, 'gamma': 0.005}],\n",
       " 'rank_test_score': array([12, 23, 24,  1,  6,  1, 12, 12, 12,  1,  1, 12, 12, 12,  6, 22,  6,\n",
       "        12, 12,  6,  1,  6, 12,  6], dtype=int32),\n",
       " 'split0_test_score': array([ 0.94736842,  0.92105263,  0.92105263,  0.94736842,  0.94736842,\n",
       "         0.94736842,  0.94736842,  0.89473684,  0.89473684,  0.94736842,\n",
       "         0.94736842,  0.89473684,  0.89473684,  0.89473684,  0.94736842,\n",
       "         0.89473684,  0.92105263,  0.89473684,  0.89473684,  0.94736842,\n",
       "         0.94736842,  0.92105263,  0.89473684,  0.94736842]),\n",
       " 'split0_train_score': array([ 0.97297297,  0.95945946,  0.93243243,  0.98648649,  0.98648649,\n",
       "         0.98648649,  0.97297297,  0.98648649,  0.98648649,  0.98648649,\n",
       "         0.98648649,  0.98648649,  0.98648649,  0.98648649,  0.98648649,\n",
       "         0.98648649,  0.98648649,  0.98648649,  0.98648649,  1.        ,\n",
       "         1.        ,  0.98648649,  0.98648649,  1.        ]),\n",
       " 'split1_test_score': array([ 0.94736842,  0.94736842,  0.89473684,  1.        ,  0.97368421,\n",
       "         1.        ,  0.94736842,  1.        ,  1.        ,  1.        ,\n",
       "         1.        ,  1.        ,  1.        ,  1.        ,  0.97368421,\n",
       "         0.97368421,  1.        ,  1.        ,  1.        ,  0.97368421,\n",
       "         1.        ,  1.        ,  1.        ,  0.97368421]),\n",
       " 'split1_train_score': array([ 0.94594595,  0.91891892,  0.87837838,  0.97297297,  0.97297297,\n",
       "         0.97297297,  0.94594595,  0.94594595,  0.94594595,  0.97297297,\n",
       "         0.97297297,  0.97297297,  0.95945946,  0.94594595,  0.97297297,\n",
       "         0.97297297,  0.97297297,  0.95945946,  0.94594595,  0.97297297,\n",
       "         0.97297297,  0.97297297,  0.95945946,  0.98648649]),\n",
       " 'split2_test_score': array([ 0.97222222,  0.94444444,  0.91666667,  0.97222222,  0.97222222,\n",
       "         0.97222222,  0.97222222,  0.97222222,  0.97222222,  0.97222222,\n",
       "         0.97222222,  0.97222222,  0.97222222,  0.97222222,  0.97222222,\n",
       "         0.97222222,  0.97222222,  0.97222222,  0.97222222,  0.97222222,\n",
       "         0.97222222,  0.97222222,  0.97222222,  0.97222222]),\n",
       " 'split2_train_score': array([ 0.96052632,  0.94736842,  0.92105263,  0.97368421,  0.97368421,\n",
       "         0.97368421,  0.94736842,  0.94736842,  0.96052632,  0.97368421,\n",
       "         0.97368421,  0.97368421,  0.96052632,  0.96052632,  0.97368421,\n",
       "         0.97368421,  0.97368421,  0.97368421,  0.96052632,  0.97368421,\n",
       "         0.97368421,  0.97368421,  0.96052632,  0.97368421]),\n",
       " 'std_fit_time': array([  7.68322136e-05,   6.15521275e-05,   2.66814453e-04,\n",
       "          4.78347413e-04,   1.60397417e-05,   5.16220119e-05,\n",
       "          1.54810030e-04,   2.46593924e-05,   1.35910208e-05,\n",
       "          7.60860392e-05,   1.96730245e-05,   1.90600142e-04,\n",
       "          1.82916727e-04,   7.01794401e-05,   3.61717646e-05,\n",
       "          8.77726557e-05,   1.42045371e-05,   4.02225325e-05,\n",
       "          7.80211418e-06,   5.15411978e-05,   1.18247016e-04,\n",
       "          1.17727179e-05,   2.05707327e-05,   4.30521257e-04]),\n",
       " 'std_score_time': array([  8.68583458e-05,   3.49254059e-05,   2.94240662e-04,\n",
       "          1.44406232e-04,   3.55235682e-06,   1.28193295e-04,\n",
       "          2.13366232e-04,   7.83604009e-06,   2.82771538e-06,\n",
       "          1.67565278e-05,   9.08593432e-05,   1.48919967e-04,\n",
       "          1.31972000e-04,   4.86669887e-06,   9.08983318e-06,\n",
       "          6.19289933e-05,   1.25153985e-06,   4.21580862e-06,\n",
       "          1.21570099e-06,   8.66174694e-05,   1.71377837e-05,\n",
       "          1.92229061e-05,   2.13544032e-06,   5.73898607e-05]),\n",
       " 'std_test_score': array([ 0.01160734,  0.01184588,  0.01158724,  0.0216885 ,  0.01213745,\n",
       "         0.0216885 ,  0.01160734,  0.0448824 ,  0.0448824 ,  0.0216885 ,\n",
       "         0.0216885 ,  0.0448824 ,  0.0448824 ,  0.0448824 ,  0.01213745,\n",
       "         0.03704698,  0.03297222,  0.0448824 ,  0.0448824 ,  0.01213745,\n",
       "         0.0216885 ,  0.03297222,  0.0448824 ,  0.01213745]),\n",
       " 'std_train_score': array([ 0.01104519,  0.0169938 ,  0.0232676 ,  0.00620948,  0.00620948,\n",
       "         0.00620948,  0.01241897,  0.01878469,  0.01676654,  0.00620948,\n",
       "         0.00620948,  0.00620948,  0.01249679,  0.01676654,  0.00620948,\n",
       "         0.00620948,  0.00620948,  0.01103883,  0.01676654,  0.01257637,\n",
       "         0.01257637,  0.00620948,  0.01249679,  0.01074468])}"
      ]
     },
     "execution_count": 11,
     "metadata": {},
     "output_type": "execute_result"
    }
   ],
   "source": [
    "abc.cv_results_"
   ]
  }
 ],
 "metadata": {
  "kernelspec": {
   "display_name": "Python 3",
   "language": "python",
   "name": "python3"
  },
  "language_info": {
   "codemirror_mode": {
    "name": "ipython",
    "version": 3
   },
   "file_extension": ".py",
   "mimetype": "text/x-python",
   "name": "python",
   "nbconvert_exporter": "python",
   "pygments_lexer": "ipython3",
   "version": "3.6.3"
  }
 },
 "nbformat": 4,
 "nbformat_minor": 2
}
