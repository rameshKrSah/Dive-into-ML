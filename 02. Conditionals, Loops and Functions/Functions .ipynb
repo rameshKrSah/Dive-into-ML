{
 "cells": [
  {
   "cell_type": "code",
   "execution_count": 4,
   "metadata": {},
   "outputs": [
    {
     "name": "stdout",
     "output_type": "stream",
     "text": [
      "30\n"
     ]
    }
   ],
   "source": [
    "#funtion \n",
    "\n",
    "def sum(a,b):\n",
    "    return a+b\n",
    "\n",
    "x = 10\n",
    "y = 20\n",
    "print(sum(x,y))"
   ]
  },
  {
   "cell_type": "code",
   "execution_count": 5,
   "metadata": {},
   "outputs": [
    {
     "name": "stdout",
     "output_type": "stream",
     "text": [
      "16\n",
      "4\n"
     ]
    }
   ],
   "source": [
    "#Default argument to a function \n",
    "\n",
    "def power(a,b=2):\n",
    "    return a ** b\n",
    "\n",
    "print(power(2,4))\n",
    "print(power(2))\n",
    "    "
   ]
  },
  {
   "cell_type": "code",
   "execution_count": 11,
   "metadata": {},
   "outputs": [
    {
     "name": "stdout",
     "output_type": "stream",
     "text": [
      "60\n",
      "33\n",
      "15\n",
      "6\n",
      "24\n"
     ]
    }
   ],
   "source": [
    "def sum3(a=1, b=2, c=3):\n",
    "    return a+b +c\n",
    "\n",
    "print(sum3(10,20,30))\n",
    "print(sum3(10,20))\n",
    "print(sum3(10))\n",
    "print(sum3())\n",
    "print(sum3(b=20))"
   ]
  },
  {
   "cell_type": "code",
   "execution_count": 13,
   "metadata": {},
   "outputs": [
    {
     "name": "stdout",
     "output_type": "stream",
     "text": [
      "50\n"
     ]
    }
   ],
   "source": [
    "#variable number of input to a function \n",
    "\n",
    "def sum_variable(a,b,*more):\n",
    "    sum = a+b\n",
    "    \n",
    "    for i in more:\n",
    "        sum += i\n",
    "    return sum    \n",
    "\n",
    "print(sum_variable(2,4,22,19,3))"
   ]
  },
  {
   "cell_type": "code",
   "execution_count": 18,
   "metadata": {},
   "outputs": [
    {
     "name": "stdout",
     "output_type": "stream",
     "text": [
      "(36, 4)\n",
      "36\n",
      "4\n"
     ]
    }
   ],
   "source": [
    "#More than one return value\n",
    "\n",
    "def dummy(a, b):\n",
    "    return a+b, a-b\n",
    "\n",
    "print(dummy(20, 16))\n",
    "sum1, diff1 = dummy(20, 16)\n",
    "print(sum1)\n",
    "print(diff1)"
   ]
  },
  {
   "cell_type": "code",
   "execution_count": 23,
   "metadata": {},
   "outputs": [
    {
     "name": "stdout",
     "output_type": "stream",
     "text": [
      "9 27\n"
     ]
    }
   ],
   "source": [
    "def power(x, y=2):\n",
    "      ans = 1\n",
    "      for i in range(y):\n",
    "          ans = ans * x\n",
    "      return ans\n",
    "print(power(3), end=\" \")\n",
    "print(power(3,3))"
   ]
  },
  {
   "cell_type": "code",
   "execution_count": 25,
   "metadata": {},
   "outputs": [
    {
     "name": "stdout",
     "output_type": "stream",
     "text": [
      "400\n",
      "188\n"
     ]
    }
   ],
   "source": [
    "#print even fibonacci number \n",
    "\n",
    "n = int(input())\n",
    "\n",
    "ef1 = 0\n",
    "ef2 = 2\n",
    "sum = ef1 + ef2\n",
    "\n",
    "while ef2 <= n :\n",
    "    ef3 = ef1 + 4*ef2\n",
    "    \n",
    "    if ef3> n:\n",
    "        break\n",
    "    \n",
    "    ef1 = ef2\n",
    "    ef2 = ef3\n",
    "    \n",
    "    sum += ef2\n",
    "\n",
    "\n",
    "    print(sum) \n",
    "\n"
   ]
  },
  {
   "cell_type": "markdown",
   "metadata": {},
   "source": [
    "for n = 5 print pattern\n",
    "1 \n",
    "3 2 \n",
    "4 5 6 \n",
    "10 9 8 7 \n",
    "11 12 13 14 15"
   ]
  },
  {
   "cell_type": "code",
   "execution_count": 40,
   "metadata": {},
   "outputs": [
    {
     "name": "stdout",
     "output_type": "stream",
     "text": [
      "7\n",
      "1 \n",
      "3 2 \n",
      "4 5 6 \n",
      "10 9 8 7 \n",
      "11 12 13 14 15 \n",
      "21 20 19 18 17 16 \n",
      "22 23 24 25 26 27 28 \n"
     ]
    }
   ],
   "source": [
    "n = int(input())\n",
    "\n",
    "i=1\n",
    "while i<=n:\n",
    "    if i%2 == 1:     # i is odd\n",
    "        first = int((i*(i-1)/2) + 1)\n",
    "        j = 1\n",
    "        while j<=i:\n",
    "            print(first, end = \" \")\n",
    "            first +=1\n",
    "            j +=1\n",
    "    \n",
    "    else:         # i is even\n",
    "        first = int(i*(i+1)/2)\n",
    "        j = 1\n",
    "        while j<=i:\n",
    "            print(first, end = \" \")\n",
    "            first -=1\n",
    "            j +=1\n",
    "    \n",
    "    print()\n",
    "    i +=1\n",
    "            "
   ]
  },
  {
   "cell_type": "code",
   "execution_count": 43,
   "metadata": {},
   "outputs": [
    {
     "name": "stdout",
     "output_type": "stream",
     "text": [
      "25\n",
      "11001\n"
     ]
    }
   ],
   "source": [
    "# decimal to binary conversion \n",
    "\n",
    "n = int(input())\n",
    "\n",
    "result = 0\n",
    "i=1\n",
    "while n != 0:\n",
    "    d = n%2\n",
    "    result = result + i*d\n",
    "    i *= 10\n",
    "    n = n // 2\n",
    "    \n",
    "print(result)"
   ]
  },
  {
   "cell_type": "code",
   "execution_count": 4,
   "metadata": {},
   "outputs": [
    {
     "name": "stdout",
     "output_type": "stream",
     "text": [
      "10\n",
      "2\n",
      "3\n",
      "5\n",
      "7\n"
     ]
    }
   ],
   "source": [
    "# print prime number \n",
    "\n",
    "def isPrime(a):\n",
    "    i = 2\n",
    "    while i<a:\n",
    "        if(a % i == 0):\n",
    "            return False \n",
    "        i +=1\n",
    "    return True\n",
    "    \n",
    "n = int(input())\n",
    "\n",
    "a = 2\n",
    "while a <= n:\n",
    "    if isPrime(a):\n",
    "        print(a)\n",
    "    a += 1\n"
   ]
  },
  {
   "cell_type": "code",
   "execution_count": 2,
   "metadata": {},
   "outputs": [
    {
     "name": "stdout",
     "output_type": "stream",
     "text": [
      "100\n",
      "Not a prime Number\n"
     ]
    }
   ],
   "source": [
    "\n",
    "n = int(input())\n",
    "isPrime = True\n",
    "\n",
    "for i in range(2,n):\n",
    "    if(n % i == 0):\n",
    "        isPrime = False\n",
    "        break\n",
    "\n",
    "if isPrime:\n",
    "    print(\"Prime\")\n",
    "else:\n",
    "    print(\"Not a prime Number\")"
   ]
  },
  {
   "cell_type": "code",
   "execution_count": 7,
   "metadata": {},
   "outputs": [
    {
     "name": "stdout",
     "output_type": "stream",
     "text": [
      "50\n",
      "12\n"
     ]
    }
   ],
   "source": [
    "#Trailing Zeroes\n",
    "\n",
    "n = int(input())\n",
    "\n",
    "sum = 0\n",
    "i = 5\n",
    "while n//i != 0 :\n",
    "    sum = sum + n//i\n",
    "    i *= 5\n",
    "\n",
    "print(sum)\n",
    "    "
   ]
  },
  {
   "cell_type": "code",
   "execution_count": 10,
   "metadata": {},
   "outputs": [
    {
     "name": "stdout",
     "output_type": "stream",
     "text": [
      "abc def\n"
     ]
    }
   ],
   "source": [
    "#Reverse individual words\n",
    "\n",
    "s = input()\n",
    "\n",
    "si = 0\n",
    "for i in range(0,len(s)):\n",
    "    if(s[i] == \" \"):\n",
    "        temp = s[si:i]\n",
    "        for j in range(-1, 0, -1):\n",
    "            print(t[j])\n",
    "        si = i+1    \n",
    "        \n",
    "    "
   ]
  }
 ],
 "metadata": {
  "kernelspec": {
   "display_name": "Python 3",
   "language": "python",
   "name": "python3"
  },
  "language_info": {
   "codemirror_mode": {
    "name": "ipython",
    "version": 3
   },
   "file_extension": ".py",
   "mimetype": "text/x-python",
   "name": "python",
   "nbconvert_exporter": "python",
   "pygments_lexer": "ipython3",
   "version": "3.6.3"
  }
 },
 "nbformat": 4,
 "nbformat_minor": 2
}
