{
 "cells": [
  {
   "cell_type": "code",
   "execution_count": 2,
   "metadata": {},
   "outputs": [
    {
     "name": "stdout",
     "output_type": "stream",
     "text": [
      "<class 'bool'>\n"
     ]
    }
   ],
   "source": [
    "#boolean data type\n",
    "a = True\n",
    "b = False\n",
    "\n",
    "print(type(a))"
   ]
  },
  {
   "cell_type": "code",
   "execution_count": 4,
   "metadata": {},
   "outputs": [
    {
     "name": "stdout",
     "output_type": "stream",
     "text": [
      "False\n",
      "True\n",
      "False\n",
      "True\n",
      "False\n",
      "True\n"
     ]
    }
   ],
   "source": [
    "#Relational Operators\n",
    "\n",
    "x = 10\n",
    "y = 20\n",
    "\n",
    "print(x>y)\n",
    "print(x<y)\n",
    "print(x>=y)\n",
    "print(x<=y)\n",
    "print(x==y)\n",
    "print(x!=y)"
   ]
  },
  {
   "cell_type": "code",
   "execution_count": 7,
   "metadata": {},
   "outputs": [
    {
     "name": "stdout",
     "output_type": "stream",
     "text": [
      "False\n",
      "True\n"
     ]
    }
   ],
   "source": [
    "#Logical Operators\n",
    "\n",
    "x = 10\n",
    "y = 20\n",
    "z = 30\n",
    "\n",
    "print(x>y and x>z)\n",
    "print(x<y or x>z)"
   ]
  },
  {
   "cell_type": "code",
   "execution_count": 9,
   "metadata": {},
   "outputs": [
    {
     "name": "stdout",
     "output_type": "stream",
     "text": [
      "30\n"
     ]
    }
   ],
   "source": [
    "#if else\n",
    "\n",
    "if x>y and x>z:\n",
    "    print(x)\n",
    "elif y>x and y>z :\n",
    "    print(y)\n",
    "else :\n",
    "    print(z)\n"
   ]
  },
  {
   "cell_type": "code",
   "execution_count": 11,
   "metadata": {},
   "outputs": [
    {
     "name": "stdout",
     "output_type": "stream",
     "text": [
      "B\n"
     ]
    }
   ],
   "source": [
    "if True or True:\n",
    "    if False and True or False:\n",
    "        print('A')\n",
    "    elif False and False or True and True:\n",
    "        print('B')\n",
    "    else:\n",
    "        print('C')\n",
    "else:\n",
    "     print('D')"
   ]
  },
  {
   "cell_type": "code",
   "execution_count": 16,
   "metadata": {},
   "outputs": [
    {
     "name": "stdout",
     "output_type": "stream",
     "text": [
      "5\n",
      "1 2 3 4 5 \n",
      "Done\n"
     ]
    }
   ],
   "source": [
    "#While Loop\n",
    "\n",
    "n = int(input())\n",
    "i = 1\n",
    "while i<=n :\n",
    "    print(i, end = \" \")\n",
    "    i = i+1\n",
    "print()\n",
    "print(\"Done\")"
   ]
  },
  {
   "cell_type": "code",
   "execution_count": 18,
   "metadata": {},
   "outputs": [
    {
     "name": "stdout",
     "output_type": "stream",
     "text": [
      "5\n",
      "1\n",
      "2\n",
      "3\n",
      "4\n",
      "5\n"
     ]
    }
   ],
   "source": [
    "#For loop and range\n",
    "\n",
    "n = int(input())\n",
    "\n",
    "for i in range(1,n+1):\n",
    "    print(i)"
   ]
  },
  {
   "cell_type": "markdown",
   "metadata": {},
   "source": [
    "RANGE is defined as range(start, end, step)\n",
    "\n",
    "By default, \n",
    "* Start is 0 \n",
    "* Step is 1.\n",
    "\n",
    "Then Range goes from 0 to end-1 i.e. the end is exclusive."
   ]
  },
  {
   "cell_type": "code",
   "execution_count": 20,
   "metadata": {},
   "outputs": [
    {
     "name": "stdout",
     "output_type": "stream",
     "text": [
      "5\n",
      "0\n",
      "1\n",
      "2\n",
      "3\n",
      "4\n",
      "5\n"
     ]
    }
   ],
   "source": [
    "n = int(input())\n",
    "\n",
    "for i in range(n+1):\n",
    "    print(i)"
   ]
  },
  {
   "cell_type": "code",
   "execution_count": 23,
   "metadata": {},
   "outputs": [
    {
     "name": "stdout",
     "output_type": "stream",
     "text": [
      "5\n",
      "0\n",
      "2\n",
      "4\n"
     ]
    }
   ],
   "source": [
    "n = int(input())\n",
    "\n",
    "for i in range(0, n+1, 2):\n",
    "    print(i)"
   ]
  },
  {
   "cell_type": "code",
   "execution_count": 31,
   "metadata": {},
   "outputs": [
    {
     "name": "stdout",
     "output_type": "stream",
     "text": [
      "100\n",
      "Not a prime Number\n"
     ]
    }
   ],
   "source": [
    "#IsPrime\n",
    "\n",
    "n = int(input())\n",
    "isPrime = True\n",
    "\n",
    "for i in range(2,n):\n",
    "    if(n % i == 0):\n",
    "        isPrime = False\n",
    "        break\n",
    "\n",
    "if isPrime:\n",
    "    print(\"Prime\")\n",
    "else:\n",
    "    print(\"Not a prime Number\")"
   ]
  },
  {
   "cell_type": "code",
   "execution_count": 35,
   "metadata": {},
   "outputs": [
    {
     "name": "stdout",
     "output_type": "stream",
     "text": [
      "a\n",
      "b\n",
      "c\n",
      "d\n",
      "e\n",
      "1\n",
      "2\n",
      "3\n",
      "4\n",
      "5\n"
     ]
    }
   ],
   "source": [
    "#Fast Iterations in strings and tuples\n",
    "\n",
    "s = \"abcde\"\n",
    "for c in s:\n",
    "    print(c)\n",
    "    \n",
    "    \n",
    "t = (1,2,3,4,5)\n",
    "for b in t:\n",
    "    print(b)\n"
   ]
  },
  {
   "cell_type": "code",
   "execution_count": 39,
   "metadata": {},
   "outputs": [
    {
     "name": "stdout",
     "output_type": "stream",
     "text": [
      "abcd\n",
      "a\n",
      "a\n",
      "a\n"
     ]
    }
   ],
   "source": [
    "x = 'abcd'\n",
    "for i in range(len(x)):\n",
    "   print(x)\n",
    "   x = 'a'\n"
   ]
  },
  {
   "cell_type": "code",
   "execution_count": 4,
   "metadata": {},
   "outputs": [
    {
     "name": "stdout",
     "output_type": "stream",
     "text": [
      "4\n",
      "1      1\n",
      "12    21\n",
      "123  321\n",
      "12344321\n"
     ]
    }
   ],
   "source": [
    "n = int(input())\n",
    "i=1\n",
    "while (i<n+1):\n",
    "    j = 1\n",
    "    while (j<i+1):\n",
    "        print(j, end = \"\")\n",
    "        j +=1\n",
    "        \n",
    "    j = i+1\n",
    "    while (j < 2*n-i+1):\n",
    "        print(\" \", end = \"\")\n",
    "        j +=1\n",
    "\n",
    "    j = i\n",
    "    while (j>0):\n",
    "        print(j, end = \"\")\n",
    "        j -=1\n",
    "    \n",
    "    print()\n",
    "    i +=1\n",
    "    \n",
    "    "
   ]
  },
  {
   "cell_type": "code",
   "execution_count": 12,
   "metadata": {},
   "outputs": [
    {
     "name": "stdout",
     "output_type": "stream",
     "text": [
      "abc def\n",
      "\n"
     ]
    }
   ],
   "source": [
    "#Reverse each word individually \n",
    "\n",
    "s = input()\n",
    "\n",
    "si = 0\n",
    "i = 0\n",
    "for i in range(0, len(s)) :\n",
    "    if s[i] == \" \":\n",
    "        ei = i-1\n",
    "        while j>=si:\n",
    "            print(s[j])\n",
    "            j -=1\n",
    "        print()    \n",
    "        si = i+1    \n",
    "        \n"
   ]
  }
 ],
 "metadata": {
  "kernelspec": {
   "display_name": "Python 3",
   "language": "python",
   "name": "python3"
  },
  "language_info": {
   "codemirror_mode": {
    "name": "ipython",
    "version": 3
   },
   "file_extension": ".py",
   "mimetype": "text/x-python",
   "name": "python",
   "nbconvert_exporter": "python",
   "pygments_lexer": "ipython3",
   "version": "3.6.3"
  }
 },
 "nbformat": 4,
 "nbformat_minor": 2
}
