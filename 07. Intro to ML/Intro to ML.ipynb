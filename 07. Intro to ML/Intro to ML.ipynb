{
 "cells": [
  {
   "cell_type": "markdown",
   "metadata": {},
   "source": [
    "## Intro to Machine Learning \n",
    "\n",
    "ML is subset of AI.\n",
    "\n",
    "Three types of ML:\n",
    "\n",
    "* Superwised Learning \n",
    "    * Regression \n",
    "    * Classification \n",
    "* Unsuperwised Learning \n",
    "* Reinforced Learning "
   ]
  },
  {
   "cell_type": "markdown",
   "metadata": {},
   "source": [
    "# # Superwised Learning \n",
    "\n",
    "\n",
    "Steps for Superwised Learning: \n",
    "\n",
    "1. Find Data source \n",
    "2. Data Loading and Cleaning-\n",
    "    * Taking Care of missing data\n",
    "    * Moving data to one form \n",
    "    * Adding / Removing columns \n",
    "    \n",
    "3. Train the algorithm \n",
    "4. Test the algorithm \n",
    "\n",
    "    "
   ]
  }
 ],
 "metadata": {
  "kernelspec": {
   "display_name": "Python 3",
   "language": "python",
   "name": "python3"
  },
  "language_info": {
   "codemirror_mode": {
    "name": "ipython",
    "version": 3
   },
   "file_extension": ".py",
   "mimetype": "text/x-python",
   "name": "python",
   "nbconvert_exporter": "python",
   "pygments_lexer": "ipython3",
   "version": "3.6.3"
  }
 },
 "nbformat": 4,
 "nbformat_minor": 2
}
