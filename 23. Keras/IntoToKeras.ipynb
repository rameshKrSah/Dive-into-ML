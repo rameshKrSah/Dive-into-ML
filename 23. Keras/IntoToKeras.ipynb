{
 "cells": [
  {
   "cell_type": "markdown",
   "metadata": {},
   "source": [
    "# Flow of Code in Keras\n",
    "\n",
    "1. Creating a model\n",
    "2. Define architecture. (Add layers)\n",
    "    * Number of layers\n",
    "    * Number of Units in each layer\n",
    "    * Activation Function in each layer\n",
    "3. Compile (create all parameters)\n",
    "4. Fit\n",
    "5. Evaluate and Predict"
   ]
  },
  {
   "cell_type": "markdown",
   "metadata": {},
   "source": [
    "## 1. Keras Models\n",
    "1. Sequential Model\n",
    "2. (Functional API) Model"
   ]
  },
  {
   "cell_type": "code",
   "execution_count": 1,
   "metadata": {},
   "outputs": [
    {
     "name": "stderr",
     "output_type": "stream",
     "text": [
      "Using TensorFlow backend.\n"
     ]
    }
   ],
   "source": [
    "## Creating a model\n",
    "\n",
    "from keras.models import Sequential\n",
    "model = Sequential()"
   ]
  },
  {
   "cell_type": "markdown",
   "metadata": {},
   "source": [
    "## 2. Layers"
   ]
  },
  {
   "cell_type": "markdown",
   "metadata": {},
   "source": [
    "We can supply:\n",
    "* No of units\n",
    "* Activation function \n",
    "* Input Shape\n",
    "* Use_bias\n",
    "\n",
    "Optional:\n",
    "* Regularisation (for bias or weights)\n",
    "* Initializers\n",
    "* Constraints\n",
    "\n",
    "Note:\n",
    "* By default : Dense Layer\n",
    "* Activation layer just applies the activation function to the output of the previous layer. "
   ]
  },
  {
   "cell_type": "code",
   "execution_count": 2,
   "metadata": {},
   "outputs": [],
   "source": [
    "from keras.layers import Dense\n",
    "\n",
    "# For first layer, input shape must be supplied\n",
    "layer1 = Dense(units = 32, activation = 'relu', input_dim = 30)\n",
    "model.add(layer1)\n",
    "\n",
    "layer2 = Dense(units = 16, activation = 'relu')\n",
    "model.add(layer2)\n",
    "\n",
    "layer3 = Dense(units = 1, activation = 'sigmoid')\n",
    "model.add(layer3)"
   ]
  },
  {
   "cell_type": "markdown",
   "metadata": {},
   "source": [
    "## 3. Compiling Models\n",
    "We need to pass:\n",
    "* Optimizers\n",
    "\n",
    "Optional:\n",
    "* Loss Function \n",
    "* Metrics\n",
    "\n",
    "Note:\n",
    "* Choosing the correct accuracy function is important for the compile function because it will define what is prinited during fit and evaluate function calls \n"
   ]
  },
  {
   "cell_type": "code",
   "execution_count": 3,
   "metadata": {
    "collapsed": true
   },
   "outputs": [],
   "source": [
    "model.compile(optimizer='adam', loss='binary_crossentropy', metrics = ['accuracy'])"
   ]
  },
  {
   "cell_type": "markdown",
   "metadata": {},
   "source": [
    "## 4. Fitting training data\n"
   ]
  },
  {
   "cell_type": "markdown",
   "metadata": {},
   "source": [
    "We need to pass:\n",
    "* x\n",
    "* y\n",
    "\n",
    "Optional:\n",
    "* Epochs: Number of iterations\n",
    "* batch_size (default batch_size = 32)\n",
    "* Validation Data (provides accuracy after every iteration on the testing data)"
   ]
  },
  {
   "cell_type": "code",
   "execution_count": 4,
   "metadata": {},
   "outputs": [],
   "source": [
    "from sklearn import datasets\n",
    "from sklearn.model_selection import train_test_split\n",
    "from sklearn.preprocessing import StandardScaler\n",
    "\n",
    "#Load data\n",
    "cancer = datasets.load_breast_cancer()\n",
    "\n",
    "# Train-Test Split\n",
    "x_train, x_test, y_train, y_test = train_test_split(cancer.data, cancer.target, test_size = 0.2, random_state = 0)\n",
    "\n",
    "# Scaling\n",
    "sc = StandardScaler()\n",
    "x_train = sc.fit_transform(x_train)\n",
    "x_test = sc.transform(x_test)"
   ]
  },
  {
   "cell_type": "code",
   "execution_count": 5,
   "metadata": {},
   "outputs": [
    {
     "name": "stdout",
     "output_type": "stream",
     "text": [
      "Train on 455 samples, validate on 114 samples\n",
      "Epoch 1/20\n",
      "455/455 [==============================] - 0s 935us/step - loss: 0.5745 - acc: 0.7956 - val_loss: 0.4811 - val_acc: 0.9035\n",
      "Epoch 2/20\n",
      "455/455 [==============================] - 0s 97us/step - loss: 0.4188 - acc: 0.9407 - val_loss: 0.3695 - val_acc: 0.9474\n",
      "Epoch 3/20\n",
      "455/455 [==============================] - 0s 97us/step - loss: 0.3231 - acc: 0.9582 - val_loss: 0.3004 - val_acc: 0.9474\n",
      "Epoch 4/20\n",
      "455/455 [==============================] - 0s 88us/step - loss: 0.2583 - acc: 0.9604 - val_loss: 0.2553 - val_acc: 0.9474\n",
      "Epoch 5/20\n",
      "455/455 [==============================] - 0s 96us/step - loss: 0.2135 - acc: 0.9604 - val_loss: 0.2247 - val_acc: 0.9474\n",
      "Epoch 6/20\n",
      "455/455 [==============================] - 0s 92us/step - loss: 0.1813 - acc: 0.9670 - val_loss: 0.2033 - val_acc: 0.9474\n",
      "Epoch 7/20\n",
      "455/455 [==============================] - 0s 118us/step - loss: 0.1574 - acc: 0.9714 - val_loss: 0.1861 - val_acc: 0.9474\n",
      "Epoch 8/20\n",
      "455/455 [==============================] - 0s 87us/step - loss: 0.1396 - acc: 0.9714 - val_loss: 0.1736 - val_acc: 0.9474\n",
      "Epoch 9/20\n",
      "455/455 [==============================] - 0s 65us/step - loss: 0.1253 - acc: 0.9714 - val_loss: 0.1630 - val_acc: 0.9474\n",
      "Epoch 10/20\n",
      "455/455 [==============================] - 0s 82us/step - loss: 0.1141 - acc: 0.9736 - val_loss: 0.1547 - val_acc: 0.9561\n",
      "Epoch 11/20\n",
      "455/455 [==============================] - 0s 84us/step - loss: 0.1047 - acc: 0.9758 - val_loss: 0.1466 - val_acc: 0.9561\n",
      "Epoch 12/20\n",
      "455/455 [==============================] - 0s 70us/step - loss: 0.0966 - acc: 0.9780 - val_loss: 0.1403 - val_acc: 0.9561\n",
      "Epoch 13/20\n",
      "455/455 [==============================] - ETA: 0s - loss: 0.1002 - acc: 0.980 - 0s 111us/step - loss: 0.0902 - acc: 0.9802 - val_loss: 0.1359 - val_acc: 0.9561\n",
      "Epoch 14/20\n",
      "455/455 [==============================] - 0s 77us/step - loss: 0.0847 - acc: 0.9802 - val_loss: 0.1324 - val_acc: 0.9561\n",
      "Epoch 15/20\n",
      "455/455 [==============================] - 0s 67us/step - loss: 0.0804 - acc: 0.9824 - val_loss: 0.1303 - val_acc: 0.9561\n",
      "Epoch 16/20\n",
      "455/455 [==============================] - 0s 87us/step - loss: 0.0762 - acc: 0.9824 - val_loss: 0.1279 - val_acc: 0.9561\n",
      "Epoch 17/20\n",
      "455/455 [==============================] - 0s 85us/step - loss: 0.0729 - acc: 0.9846 - val_loss: 0.1265 - val_acc: 0.9649\n",
      "Epoch 18/20\n",
      "455/455 [==============================] - 0s 86us/step - loss: 0.0698 - acc: 0.9846 - val_loss: 0.1272 - val_acc: 0.9649\n",
      "Epoch 19/20\n",
      "455/455 [==============================] - 0s 103us/step - loss: 0.0669 - acc: 0.9868 - val_loss: 0.1261 - val_acc: 0.9649\n",
      "Epoch 20/20\n",
      "455/455 [==============================] - 0s 76us/step - loss: 0.0645 - acc: 0.9846 - val_loss: 0.1267 - val_acc: 0.9649\n"
     ]
    },
    {
     "data": {
      "text/plain": [
       "<keras.callbacks.History at 0x18206406d8>"
      ]
     },
     "execution_count": 5,
     "metadata": {},
     "output_type": "execute_result"
    }
   ],
   "source": [
    "model.fit(x_train, y_train, epochs=20, batch_size=50, validation_data=(x_test, y_test))"
   ]
  },
  {
   "cell_type": "markdown",
   "metadata": {},
   "source": [
    "## 5. Prediction and Evaluation"
   ]
  },
  {
   "cell_type": "code",
   "execution_count": 6,
   "metadata": {},
   "outputs": [
    {
     "name": "stdout",
     "output_type": "stream",
     "text": [
      "114/114 [==============================] - 0s 50us/step\n"
     ]
    },
    {
     "data": {
      "text/plain": [
       "[0.12674464311516076, 0.96491228174744992]"
      ]
     },
     "execution_count": 6,
     "metadata": {},
     "output_type": "execute_result"
    }
   ],
   "source": [
    "predictions = model.predict(x_test)\n",
    "\n",
    "score = model.evaluate(x_test, y_test)\n",
    "## Returns loss function and accuracy  \n",
    "score "
   ]
  }
 ],
 "metadata": {
  "kernelspec": {
   "display_name": "Python 3",
   "language": "python",
   "name": "python3"
  },
  "language_info": {
   "codemirror_mode": {
    "name": "ipython",
    "version": 3
   },
   "file_extension": ".py",
   "mimetype": "text/x-python",
   "name": "python",
   "nbconvert_exporter": "python",
   "pygments_lexer": "ipython3",
   "version": "3.6.3"
  }
 },
 "nbformat": 4,
 "nbformat_minor": 2
}
