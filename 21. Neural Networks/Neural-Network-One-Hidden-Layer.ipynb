{
 "cells": [
  {
   "cell_type": "code",
   "execution_count": 1,
   "metadata": {
    "collapsed": true
   },
   "outputs": [],
   "source": [
    "import numpy as np"
   ]
  },
  {
   "cell_type": "code",
   "execution_count": 2,
   "metadata": {},
   "outputs": [
    {
     "data": {
      "text/plain": [
       "((4, 2), (4, 1))"
      ]
     },
     "execution_count": 2,
     "metadata": {},
     "output_type": "execute_result"
    }
   ],
   "source": [
    "X = np.array([[0,0], [0,1], [1,0], [1,1]])\n",
    "Y = np.array([[0,1,1,0]]).T\n",
    "X.shape, Y.shape"
   ]
  },
  {
   "cell_type": "code",
   "execution_count": 3,
   "metadata": {
    "collapsed": true
   },
   "outputs": [],
   "source": [
    "## Defining sigmoid function\n",
    "def sigmoid(z):\n",
    "    return 1/(1 + np.exp(-z))"
   ]
  },
  {
   "cell_type": "code",
   "execution_count": 4,
   "metadata": {
    "collapsed": true
   },
   "outputs": [],
   "source": [
    "## Defining derivative of sigmoid function\n",
    "def derivativeSigmoid(z):\n",
    "    return sigmoid(z) * (1 - sigmoid(z))"
   ]
  },
  {
   "cell_type": "code",
   "execution_count": 5,
   "metadata": {
    "collapsed": true
   },
   "outputs": [],
   "source": [
    "# Hidden layer weights\n",
    "wh = 2 * np.random.random((2,2)) - 1\n",
    "\n",
    "# Hidden layer biases\n",
    "bh = 2 * np.random.random((1,2)) - 1\n",
    "\n",
    "# Output Weights\n",
    "wo = 2 * np.random.random((2,1)) - 1\n",
    "\n",
    "# Output Biases\n",
    "bo = 2 * np.random.random((1,1)) - 1\n",
    "\n",
    "# Defining learning Rate\n",
    "lr = 0.1"
   ]
  },
  {
   "cell_type": "code",
   "execution_count": 6,
   "metadata": {},
   "outputs": [
    {
     "data": {
      "text/plain": [
       "(array([[ 0.07339626],\n",
       "        [ 0.66105684],\n",
       "        [ 0.66104009],\n",
       "        [ 0.67021083]]), array([[-3.50251246,  5.81635167],\n",
       "        [-3.51074866,  5.81483881]]), array([[-1.18671272, -0.7982476 ]]), array([[-1.56711415],\n",
       "        [ 4.17465349]]), array([[-3.46500201]]))"
      ]
     },
     "execution_count": 6,
     "metadata": {},
     "output_type": "execute_result"
    }
   ],
   "source": [
    "for iter in range(10000):\n",
    "    ## Forward Propagation \n",
    "    output0 = X\n",
    "\n",
    "    inputHidden = np.dot(output0, wh) + bh\n",
    "    outputHidden = sigmoid(inputHidden)\n",
    "\n",
    "    inputForOutputLayer = np.dot(outputHidden, wo) + bo\n",
    "    output = sigmoid(inputForOutputLayer)\n",
    "\n",
    "    ## Back Propagation\n",
    "    first_term_output_layer = output - Y\n",
    "    second_term_output_layer = derivativeSigmoid(inputForOutputLayer)\n",
    "    first_two_term_output_layer = first_term_output_layer * second_term_output_layer\n",
    "\n",
    "    first_term_hidden_layer = np.dot(first_two_term_output_layer, wo.T)\n",
    "    second_term_hidden_layer = derivativeSigmoid(inputHidden)\n",
    "    first_two_term_hidden_layer = first_term_hidden_layer * second_term_hidden_layer\n",
    "\n",
    "    changes_output_layer = np.dot(outputHidden.T, first_two_term_output_layer)\n",
    "    changes_output_layer_bias = np.sum(first_two_term_output_layer, axis = 0, keepdims=True)\n",
    "\n",
    "    changes_hidden_layer = np.dot(output0.T, first_two_term_hidden_layer)\n",
    "    changes_hidden_layer_bias = np.sum(first_two_term_hidden_layer, axis = 0, keepdims=True)\n",
    "\n",
    "    wo = wo - lr * changes_output_layer\n",
    "    bo = bo - lr * changes_output_layer_bias\n",
    "\n",
    "    wh = wh - lr * changes_hidden_layer\n",
    "    bh = bh - lr * changes_hidden_layer_bias\n",
    "    \n",
    "    \n",
    "output0 = X\n",
    "inputHidden = np.dot(output0, wh) + bh\n",
    "outputHidden = sigmoid(inputHidden)\n",
    "\n",
    "inputForOutputLayer = np.dot(outputHidden, wo) + bo\n",
    "output = sigmoid(inputForOutputLayer)\n",
    "\n",
    "output, wh, bh, wo, bo"
   ]
  }
 ],
 "metadata": {
  "kernelspec": {
   "display_name": "Python 3",
   "language": "python",
   "name": "python3"
  },
  "language_info": {
   "codemirror_mode": {
    "name": "ipython",
    "version": 3
   },
   "file_extension": ".py",
   "mimetype": "text/x-python",
   "name": "python",
   "nbconvert_exporter": "python",
   "pygments_lexer": "ipython3",
   "version": "3.6.3"
  }
 },
 "nbformat": 4,
 "nbformat_minor": 2
}
