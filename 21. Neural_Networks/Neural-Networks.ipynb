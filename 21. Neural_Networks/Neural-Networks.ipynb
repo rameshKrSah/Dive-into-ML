{
 "cells": [
  {
   "cell_type": "markdown",
   "metadata": {},
   "source": [
    "## Why do we need Neural Networks:\n",
    "\n",
    "In logistic Regression,  the sigmoid function is non linear, but the decision boundary we were deciding was actually linear. So, to improvise we have included new features like product of two features, three features etc and then we end up with a non- linear decision bounderies.\n",
    "\n",
    "But actually we dont know exact features to be added. More complex features like sine, cosine, power 5 etc can also be added. Features to be added was decided by us beforehand. \n",
    "\n"
   ]
  },
  {
   "cell_type": "markdown",
   "metadata": {},
   "source": [
    "* **Forward Propagation**: To Predict output\n",
    "* **Backward Propagation**: To update weights or to push errors back through layers"
   ]
  }
 ],
 "metadata": {
  "kernelspec": {
   "display_name": "Python 3",
   "language": "python",
   "name": "python3"
  },
  "language_info": {
   "codemirror_mode": {
    "name": "ipython",
    "version": 3
   },
   "file_extension": ".py",
   "mimetype": "text/x-python",
   "name": "python",
   "nbconvert_exporter": "python",
   "pygments_lexer": "ipython3",
   "version": "3.6.3"
  }
 },
 "nbformat": 4,
 "nbformat_minor": 2
}
