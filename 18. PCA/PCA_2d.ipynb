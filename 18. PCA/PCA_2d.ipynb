{
 "cells": [
  {
   "cell_type": "markdown",
   "metadata": {},
   "source": [
    "## PCA stands from Principal Component Analysis\n",
    "It Creates new features from the existing set of features that correctly describe the data. \n",
    "\n",
    "**Aim**: Reduce the dimensionality \n",
    "\n",
    "**Benefits**:\n",
    "1. Increases the **speed** in training time.\n",
    "2. Uses less **memory**\n",
    "3. **Visualisation** becomes easier.\n",
    "\n",
    "**Challenge** : Minimise the amount of information lost\n",
    "\n",
    "Note: Feature Scaling is important before applying PCA"
   ]
  },
  {
   "cell_type": "code",
   "execution_count": 1,
   "metadata": {
    "collapsed": true
   },
   "outputs": [],
   "source": [
    "import numpy as np\n",
    "import matplotlib.pyplot as plt\n",
    "from sklearn.decomposition import PCA"
   ]
  },
  {
   "cell_type": "code",
   "execution_count": 2,
   "metadata": {
    "collapsed": true
   },
   "outputs": [],
   "source": [
    "##Dummy data\n",
    "x1 = np.array([1,2,3,4,5,6])\n",
    "x2 = np.array([7.5, 11, 16, 18, 20, 26])"
   ]
  },
  {
   "cell_type": "code",
   "execution_count": 3,
   "metadata": {},
   "outputs": [
    {
     "data": {
      "image/png": "[encoded data removed]",
      "text/plain": [
       "<matplotlib.figure.Figure at 0x1a0925d278>"
      ]
     },
     "metadata": {},
     "output_type": "display_data"
    }
   ],
   "source": [
    "plt.scatter(x1,x2)\n",
    "plt.show()"
   ]
  },
  {
   "cell_type": "code",
   "execution_count": 4,
   "metadata": {},
   "outputs": [
    {
     "data": {
      "text/plain": [
       "array([[  1. ,   7.5],\n",
       "       [  2. ,  11. ],\n",
       "       [  3. ,  16. ],\n",
       "       [  4. ,  18. ],\n",
       "       [  5. ,  20. ],\n",
       "       [  6. ,  26. ]])"
      ]
     },
     "execution_count": 4,
     "metadata": {},
     "output_type": "execute_result"
    }
   ],
   "source": [
    "## Combining two array to give a 2d array\n",
    "X = np.c_[x1, x2]\n",
    "X"
   ]
  },
  {
   "cell_type": "code",
   "execution_count": 5,
   "metadata": {},
   "outputs": [
    {
     "data": {
      "text/plain": [
       "array([[ -9.26049952e+00,   9.65263430e-03],\n",
       "       [ -5.62047228e+00,   2.38560598e-02],\n",
       "       [ -5.36562171e-01,  -3.68391297e-01],\n",
       "       [  1.65958219e+00,   5.22629108e-02],\n",
       "       [  3.85572654e+00,   4.72917119e-01],\n",
       "       [  9.90222524e+00,  -1.90297426e-01]])"
      ]
     },
     "execution_count": 5,
     "metadata": {},
     "output_type": "execute_result"
    }
   ],
   "source": [
    "pca = PCA()\n",
    "X_transformed = pca.fit_transform(X)\n",
    "X_transformed"
   ]
  },
  {
   "cell_type": "code",
   "execution_count": 6,
   "metadata": {},
   "outputs": [
    {
     "data": {
      "text/plain": [
       "array([[ 0.27096719,  0.96258858],\n",
       "       [ 0.96258858, -0.27096719]])"
      ]
     },
     "execution_count": 6,
     "metadata": {},
     "output_type": "execute_result"
    }
   ],
   "source": [
    "##Unit vector of the two transformed directions\n",
    "pca.components_"
   ]
  },
  {
   "cell_type": "code",
   "execution_count": 7,
   "metadata": {},
   "outputs": [
    {
     "data": {
      "text/plain": [
       "array([[  1. ,   7.5],\n",
       "       [  2. ,  11. ],\n",
       "       [  3. ,  16. ],\n",
       "       [  4. ,  18. ],\n",
       "       [  5. ,  20. ],\n",
       "       [  6. ,  26. ]])"
      ]
     },
     "execution_count": 7,
     "metadata": {},
     "output_type": "execute_result"
    }
   ],
   "source": [
    "## inverse back to original data\n",
    "pca.inverse_transform(X_transformed)"
   ]
  },
  {
   "cell_type": "code",
   "execution_count": 8,
   "metadata": {},
   "outputs": [
    {
     "data": {
      "text/plain": [
       "array([[-9.26049952],\n",
       "       [-5.62047228],\n",
       "       [-0.53656217],\n",
       "       [ 1.65958219],\n",
       "       [ 3.85572654],\n",
       "       [ 9.90222524]])"
      ]
     },
     "execution_count": 8,
     "metadata": {},
     "output_type": "execute_result"
    }
   ],
   "source": [
    "pca = PCA(n_components=1)       ## n_components tell number of features/dimensions to keep\n",
    "X_transformed = pca.fit_transform(X)\n",
    "X_transformed"
   ]
  },
  {
   "cell_type": "code",
   "execution_count": 9,
   "metadata": {},
   "outputs": [
    {
     "data": {
      "text/plain": [
       "array([[  0.99070848,   7.50261555],\n",
       "       [  1.97703643,  11.00646421],\n",
       "       [  3.35460926,  15.90017805],\n",
       "       [  3.94969232,  18.01416153],\n",
       "       [  4.54477538,  20.12814502],\n",
       "       [  6.18317813,  25.94843564]])"
      ]
     },
     "execution_count": 9,
     "metadata": {},
     "output_type": "execute_result"
    }
   ],
   "source": [
    "## Lost some data (one dimension) so data is close to original one but not exact\n",
    "## But not lost so much information.\n",
    "## Thus this direction actually stored maximum information even when we are reducing the dimensions\n",
    "X_approx = pca.inverse_transform(X_transformed)\n",
    "X_approx"
   ]
  },
  {
   "cell_type": "code",
   "execution_count": 10,
   "metadata": {},
   "outputs": [
    {
     "data": {
      "image/png": "[encoded data removed]",
      "text/plain": [
       "<matplotlib.figure.Figure at 0x1a09298978>"
      ]
     },
     "metadata": {},
     "output_type": "display_data"
    }
   ],
   "source": [
    "plt.scatter(X_approx[:,0], X_approx[:,1])\n",
    "plt.show()\n",
    "##Shows principal component direction ie. the direction which stores maximum information and it lies on a line."
   ]
  }
 ],
 "metadata": {
  "kernelspec": {
   "display_name": "Python 3",
   "language": "python",
   "name": "python3"
  },
  "language_info": {
   "codemirror_mode": {
    "name": "ipython",
    "version": 3
   },
   "file_extension": ".py",
   "mimetype": "text/x-python",
   "name": "python",
   "nbconvert_exporter": "python",
   "pygments_lexer": "ipython3",
   "version": "3.6.3"
  }
 },
 "nbformat": 4,
 "nbformat_minor": 2
}
