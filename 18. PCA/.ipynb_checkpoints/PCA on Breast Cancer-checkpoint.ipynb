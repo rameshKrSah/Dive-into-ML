{
 "cells": [
  {
   "cell_type": "code",
   "execution_count": 1,
   "metadata": {
    "collapsed": true
   },
   "outputs": [],
   "source": [
    "import numpy as np\n",
    "import time\n",
    "\n",
    "from sklearn import decomposition, datasets, linear_model\n",
    "from sklearn.preprocessing import StandardScaler\n",
    "from sklearn.model_selection import train_test_split"
   ]
  },
  {
   "cell_type": "code",
   "execution_count": 2,
   "metadata": {
    "collapsed": true
   },
   "outputs": [],
   "source": [
    "breast_cancer = datasets.load_breast_cancer()\n",
    "x = breast_cancer.data\n",
    "y = breast_cancer.target"
   ]
  },
  {
   "cell_type": "code",
   "execution_count": 3,
   "metadata": {},
   "outputs": [
    {
     "data": {
      "text/plain": [
       "(569, 30)"
      ]
     },
     "execution_count": 3,
     "metadata": {},
     "output_type": "execute_result"
    }
   ],
   "source": [
    "x.shape"
   ]
  },
  {
   "cell_type": "code",
   "execution_count": 4,
   "metadata": {
    "collapsed": true
   },
   "outputs": [],
   "source": [
    "## Feature Scaling on x\n",
    "sc = StandardScaler()\n",
    "x_std = sc.fit_transform(x)"
   ]
  },
  {
   "cell_type": "code",
   "execution_count": 5,
   "metadata": {
    "collapsed": true
   },
   "outputs": [],
   "source": [
    "x_train, x_test, y_train, y_test = train_test_split(x_std, y, random_state = 0)"
   ]
  },
  {
   "cell_type": "markdown",
   "metadata": {},
   "source": [
    "# Finding Optimal K"
   ]
  },
  {
   "cell_type": "code",
   "execution_count": 6,
   "metadata": {},
   "outputs": [
    {
     "data": {
      "text/plain": [
       "array([  1.30274684e+01,   5.81556555e+00,   2.85848795e+00,\n",
       "         1.91901713e+00,   1.70021491e+00,   1.20663908e+00,\n",
       "         6.53337152e-01,   4.26738474e-01,   4.26450541e-01,\n",
       "         3.45589858e-01,   3.08054910e-01,   2.56054468e-01,\n",
       "         2.28152003e-01,   1.43262745e-01,   9.26283031e-02,\n",
       "         7.80260477e-02,   6.13812037e-02,   5.26182531e-02,\n",
       "         4.50933578e-02,   3.08275366e-02,   3.03277956e-02,\n",
       "         2.51390631e-02,   2.12226717e-02,   1.77427715e-02,\n",
       "         1.63886382e-02,   7.83681541e-03,   6.61084728e-03,\n",
       "         1.45257891e-03,   7.98794510e-04,   1.11908784e-04])"
      ]
     },
     "execution_count": 6,
     "metadata": {},
     "output_type": "execute_result"
    }
   ],
   "source": [
    "pca = decomposition.PCA()\n",
    "pca.fit_transform(x_train)\n",
    "pca.explained_variance_"
   ]
  },
  {
   "cell_type": "code",
   "execution_count": 7,
   "metadata": {},
   "outputs": [
    {
     "data": {
      "text/plain": [
       "10"
      ]
     },
     "execution_count": 7,
     "metadata": {},
     "output_type": "execute_result"
    }
   ],
   "source": [
    "#Calculating optimal k to have 95% (say) variance \n",
    "\n",
    "total = sum(pca.explained_variance_)\n",
    "k = 0\n",
    "current_variance = 0\n",
    "\n",
    "while(current_variance/total < 0.95):\n",
    "    current_variance += pca.explained_variance_[k]\n",
    "    k = k+1\n",
    "k"
   ]
  },
  {
   "cell_type": "code",
   "execution_count": 8,
   "metadata": {
    "collapsed": true
   },
   "outputs": [],
   "source": [
    "pca = decomposition.PCA(n_components=k)\n",
    "\n",
    "x_train_pca = pca.fit_transform(x_train)\n",
    "x_test_pca = pca.transform(x_test)\n"
   ]
  },
  {
   "cell_type": "markdown",
   "metadata": {},
   "source": [
    "# Testing score and time on original data"
   ]
  },
  {
   "cell_type": "code",
   "execution_count": 9,
   "metadata": {},
   "outputs": [
    {
     "name": "stdout",
     "output_type": "stream",
     "text": [
      "0.010612249374389648\n",
      "0.965034965035\n"
     ]
    }
   ],
   "source": [
    "\n",
    "clf =  linear_model.LogisticRegression()\n",
    "\n",
    "start = time.time()\n",
    "\n",
    "clf.fit(x_train, y_train)\n",
    "\n",
    "ending = time.time()\n",
    "time_taken = ending - start\n",
    "\n",
    "print(time_taken)\n",
    "print(clf.score(x_test, y_test))"
   ]
  },
  {
   "cell_type": "markdown",
   "metadata": {},
   "source": [
    "# Testing score and time on PCA applied data"
   ]
  },
  {
   "cell_type": "code",
   "execution_count": 10,
   "metadata": {},
   "outputs": [
    {
     "name": "stdout",
     "output_type": "stream",
     "text": [
      "0.0025768280029296875\n",
      "0.958041958042\n"
     ]
    }
   ],
   "source": [
    "\n",
    "\n",
    "clf =  linear_model.LogisticRegression()\n",
    "\n",
    "start = time.time()\n",
    "\n",
    "clf.fit(x_train_pca, y_train)\n",
    "\n",
    "ending = time.time()\n",
    "time_taken = ending - start\n",
    "\n",
    "print(time_taken)\n",
    "print(clf.score(x_test_pca, y_test))"
   ]
  },
  {
   "cell_type": "markdown",
   "metadata": {},
   "source": [
    "PCA will perform better ie. take less time, with decent amount of accuracy in substantionally larger datasets.\n",
    "In smaller datasets difference is very less."
   ]
  },
  {
   "cell_type": "code",
   "execution_count": 11,
   "metadata": {},
   "outputs": [
    {
     "data": {
      "text/plain": [
       "array([ 13.02746837,   5.81556555,   2.85848795,   1.91901713,\n",
       "         1.70021491,   1.20663908,   0.65333715,   0.42673847,\n",
       "         0.42645054,   0.34558986])"
      ]
     },
     "execution_count": 11,
     "metadata": {},
     "output_type": "execute_result"
    }
   ],
   "source": [
    "## These are the eigen values and tell which vectors are more important\n",
    "# Eigenvectors represent the dimensions and eigenvalues are directly proportional to the co-variance in that direction.\n",
    "pca.explained_variance_"
   ]
  }
 ],
 "metadata": {
  "kernelspec": {
   "display_name": "Python 3",
   "language": "python",
   "name": "python3"
  },
  "language_info": {
   "codemirror_mode": {
    "name": "ipython",
    "version": 3
   },
   "file_extension": ".py",
   "mimetype": "text/x-python",
   "name": "python",
   "nbconvert_exporter": "python",
   "pygments_lexer": "ipython3",
   "version": "3.6.3"
  }
 },
 "nbformat": 4,
 "nbformat_minor": 2
}
