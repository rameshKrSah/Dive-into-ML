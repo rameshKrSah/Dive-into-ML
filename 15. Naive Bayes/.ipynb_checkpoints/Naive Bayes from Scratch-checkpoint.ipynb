{
 "cells": [
  {
   "cell_type": "code",
   "execution_count": 1,
   "metadata": {
    "collapsed": true
   },
   "outputs": [],
   "source": [
    "import numpy as np"
   ]
  },
  {
   "cell_type": "code",
   "execution_count": 3,
   "metadata": {},
   "outputs": [],
   "source": [
    "def fit(X_train, Y_train):\n",
    "    result = {}\n",
    "    class_values = set(Y_train)\n",
    "    \n",
    "    for current_class in class_values:\n",
    "        result[current_class] = {}\n",
    "        result[\"total_data\"] = len(Y_train)\n",
    "        \n",
    "        current_class_rows = (Y_train == current_class)\n",
    "        X_train_current = X_train[current_class_rows]\n",
    "        Y_train_current = Y_train[current_class_rows]\n",
    "        \n",
    "        num_features = X_train.shape[1]\n",
    "\n",
    "        result[current_class][\"total_count\"] = len(Y_train_current)\n",
    "        for j in range(1, num_features+1):\n",
    "            result[current_class][j] = {}\n",
    "            all_possible_values = set(X_train[:, j-1])\n",
    "            \n",
    "            for current_value in all_possible_values:\n",
    "                result[current_class][j][current_value] = (X_train_current[:, j-1] == current_value).sum()\n",
    "        \n",
    "    return result"
   ]
  },
  {
   "cell_type": "code",
   "execution_count": null,
   "metadata": {},
   "outputs": [],
   "source": [
    "def probability(dictionary, x, current_class):\n",
    "    \n",
    "    class_probability =  np.log(dictionary[current_class][\"total_data\"]) - np.log(dictionary[\"total_data\"])\n",
    "    output = class_probability \n",
    "    \n",
    "    num_features = len(dictionary[current_class].keys()) - 1\n",
    "    \n",
    "    for j in range(1, num_features+1):\n",
    "        xj = x[j - 1]\n",
    "        count_current_class_with_xj = dictionary[current_class][j][xj]  + 1\n",
    "        count_current_class = dictionary[current_class][\"total_count\"]  + len(dictionary[current_class][j].keys())\n",
    "        \n",
    "        current_xj_probability = np.log(count_current_class_with_xj) - np.log(count_current_class)\n",
    "        \n",
    "        output += current_xj_probability\n",
    "    \n",
    "    return output"
   ]
  },
  {
   "cell_type": "code",
   "execution_count": null,
   "metadata": {
    "collapsed": true
   },
   "outputs": [],
   "source": [
    "def predictSinglePoint(dictionary,x):\n",
    "#   number of classes \n",
    "    classes = dictionary.keys()\n",
    "    \n",
    "#   counter for best p i.e. max p corresponding to best class\n",
    "    best_p = -1000\n",
    "    best_class = -1\n",
    "    \n",
    "#   first run to inorder to update the best p values in first run definitely\n",
    "    first_run = True\n",
    "    \n",
    "    \n",
    "    for current_class in classes:\n",
    "        if(current_class == \"total_data\")\n",
    "            continue\n",
    "        \n",
    "        p_current_class = probability(dictionary, x, current_class)\n",
    "        if(first_run or p_current_class > best_p):\n",
    "            best_p = p_current_class\n",
    "            best_class = current_class\n",
    "    \n",
    "        first _run = False\n",
    "        \n",
    "    return best_class"
   ]
  },
  {
   "cell_type": "code",
   "execution_count": 5,
   "metadata": {},
   "outputs": [],
   "source": [
    "def predict(dictionary, X_test):\n",
    "    y_pred = []\n",
    "    \n",
    "    for x in X_test:\n",
    "        x_class = predictSinglePoint(dictionary, x)\n",
    "        y_pred.append(x_class)\n",
    "    \n",
    "    return y_pred"
   ]
  },
  {
   "cell_type": "code",
   "execution_count": null,
   "metadata": {
    "collapsed": true
   },
   "outputs": [],
   "source": []
  }
 ],
 "metadata": {
  "kernelspec": {
   "display_name": "Python 3",
   "language": "python",
   "name": "python3"
  },
  "language_info": {
   "codemirror_mode": {
    "name": "ipython",
    "version": 3
   },
   "file_extension": ".py",
   "mimetype": "text/x-python",
   "name": "python",
   "nbconvert_exporter": "python",
   "pygments_lexer": "ipython3",
   "version": "3.6.3"
  }
 },
 "nbformat": 4,
 "nbformat_minor": 2
}
